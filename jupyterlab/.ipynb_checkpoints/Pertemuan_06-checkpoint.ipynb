{
 "cells": [
  {
   "cell_type": "markdown",
   "id": "63baed50-4b6b-44db-96ae-50910e754715",
   "metadata": {},
   "source": [
    "# Create Database"
   ]
  },
  {
   "cell_type": "code",
   "execution_count": null,
   "id": "c56fed2d-b8d0-49ad-b479-aa70ed8af57b",
   "metadata": {},
   "outputs": [],
   "source": [
    "# load modul yg diperlukan\n",
    "import psycopg2\n",
    "\n",
    "# buat koneksi python ke PostgreSQL (127.0.0.1 atau localhost)\n",
    "konek = psycopg2.connect(user='postgres', \n",
    "                        password='123', \n",
    "                        host='localhost', \n",
    "                        port= '5432'\n",
    ")\n",
    "konek.autocommit = True\n",
    "\n",
    "# Membuat kursor eksekutor \n",
    "kursor = konek.cursor()\n",
    "\n",
    "# Kueri\n",
    "sql = '''CREATE DATABASE JNE_db''';\n",
    "\n",
    "#Creating a database\n",
    "kursor.execute(sql)"
   ]
  }
 ],
 "metadata": {
  "kernelspec": {
   "display_name": "Python 3 (ipykernel)",
   "language": "python",
   "name": "python3"
  },
  "language_info": {
   "codemirror_mode": {
    "name": "ipython",
    "version": 3
   },
   "file_extension": ".py",
   "mimetype": "text/x-python",
   "name": "python",
   "nbconvert_exporter": "python",
   "pygments_lexer": "ipython3",
   "version": "3.10.9"
  }
 },
 "nbformat": 4,
 "nbformat_minor": 5
}
