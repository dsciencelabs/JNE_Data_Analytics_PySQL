{
 "cells": [
  {
   "cell_type": "markdown",
   "metadata": {},
   "source": [
    "Seperti telah kita pelajari, untuk meng-akses database ada beberapa perangkat lunak yang dapat digunakan. Secara khusus pada pelatihan **(\"Data Analytics with Python+SQL\")** ini kita akan fokus untuk menggunakan dua diantaranya; MySQL dan PostgreeSQL.\n",
    "<hr> \n",
    "\n",
    "# Akses MySQL dengan Python\n",
    "\n",
    "Berikut ini akan diperlihatkan langkah-langkah untuk mengakses MySQL dengan Python:\n",
    "\n",
    "## Instalasi Modul MySQL Connector\n",
    "\n",
    "Untuk dapat menghubunkan Python dengan MySQL, diperlukan mudul (Packages) yang berisi fungsi-fungsi  dan perintah yang dapat dipergunakan dalam mengakses MySQL."
   ]
  },
  {
   "cell_type": "code",
   "execution_count": 1,
   "metadata": {},
   "outputs": [
    {
     "name": "stdout",
     "output_type": "stream",
     "text": [
      "Requirement already satisfied: mysql-connector in c:\\users\\user\\anaconda3\\lib\\site-packages (2.2.9)\n",
      "Note: you may need to restart the kernel to use updated packages.\n"
     ]
    }
   ],
   "source": [
    "pip install mysql-connector"
   ]
  },
  {
   "cell_type": "markdown",
   "metadata": {},
   "source": [
    "## Aktifkan MySQL\n",
    "\n",
    "**Jangan pernah lupa** mengaktifkan MySQL melalui aplikasi XAMPP untuk dapat menghubungkan MySQL dengan Python. Klik **Start** pada tombol **Apache** dan **MySQL** dan pastikan berwarna hijau, seperti terlihat pada gambar dibawah ini. \n",
    "\n",
    "<img style=\"float: center; margin: 0px 0px 0px 0px; width:80%\" src=\"https://github.com/dsciencelabs/JNE_Data_Analytics_PySQL/blob/main/images/bab1/xampp8.png?raw=true\"/> "
   ]
  },
  {
   "cell_type": "markdown",
   "metadata": {},
   "source": [
    "## Koneksikan Python ke SQL\n",
    "\n",
    "Pertama-tama kita membutuhkan modul `mysql.connector` untuk membuat koneksi ke MySQL. Kemudian kita membuat koneksi dengan memanggil fungsi `connect()` dan parameter\n",
    "\n",
    "* `host`  : Hosting (Alamat penyimpanan database), bisa lokal dan situs tertentu.\n",
    "* `user`  : Nama user yang dapat melakukan akses ke database tersebut\n",
    "* `passwd`: Sandi yang hanya diberikan kepad user yang memiliki hak akses ke database\n",
    "\n",
    "Perhatikan, koding berikut:"
   ]
  },
  {
   "cell_type": "code",
   "execution_count": 2,
   "metadata": {},
   "outputs": [
    {
     "name": "stdout",
     "output_type": "stream",
     "text": [
      "Berhasil terhubung ke database\n"
     ]
    }
   ],
   "source": [
    "import mysql.connector\n",
    "\n",
    "db1 = mysql.connector.connect(\n",
    "  host='localhost',\n",
    "  user='jne',\n",
    "  passwd='123'\n",
    ")\n",
    "\n",
    "if db1.is_connected():\n",
    "  print('Berhasil terhubung ke database')"
   ]
  },
  {
   "cell_type": "markdown",
   "metadata": {},
   "source": [
    "**Catatan:**\n",
    "<br>\n",
    "Jika anda ingin terkoneksi ke MySQL secara default, tanpa menggunakan **Password**. Dapat mengikuti koding berikut:"
   ]
  },
  {
   "cell_type": "code",
   "execution_count": 3,
   "metadata": {},
   "outputs": [
    {
     "name": "stdout",
     "output_type": "stream",
     "text": [
      "Berhasil terhubung ke database\n"
     ]
    }
   ],
   "source": [
    "import mysql.connector\n",
    "\n",
    "db2 = mysql.connector.connect(\n",
    "  host='localhost',\n",
    "  user='root',\n",
    "  passwd=''\n",
    ")\n",
    "\n",
    "if db2.is_connected():\n",
    "  print('Berhasil terhubung ke database')"
   ]
  },
  {
   "cell_type": "markdown",
   "metadata": {},
   "source": [
    "## Membuat Database\n",
    "\n",
    "Kita sudah berhasil membuat objek `db1` dan `db2` yang akan bertugas sebagai konektor ke MySQL. Kemudian kita masih membutuhkan satu lagi objek yaitu `cursor` untuk mengeksekusi perintah SQL atau query. Karena objek tersebut berada di dalam objek `db1` dan `db2`, sehingga untuk membuat objek `cursor` adalah sebagai berikut:"
   ]
  },
  {
   "cell_type": "code",
   "execution_count": null,
   "metadata": {},
   "outputs": [],
   "source": [
    "cursor = db1.cursor()\n",
    "cursor.execute('CREATE DATABASE jne')"
   ]
  },
  {
   "cell_type": "markdown",
   "metadata": {},
   "source": [
    "atau, "
   ]
  },
  {
   "cell_type": "code",
   "execution_count": null,
   "metadata": {},
   "outputs": [],
   "source": [
    "cursor = db2.cursor()\n",
    "cursor.execute('CREATE DATABASE JNE')"
   ]
  },
  {
   "cell_type": "markdown",
   "metadata": {},
   "source": [
    "**Pertanyaan:** Dari kedua koding tersebut diatas, apakah yang menurut anda berbeda?"
   ]
  },
  {
   "cell_type": "markdown",
   "metadata": {},
   "source": [
    "Cara lain, "
   ]
  },
  {
   "cell_type": "code",
   "execution_count": null,
   "metadata": {},
   "outputs": [],
   "source": [
    "cursor = db2.cursor()\n",
    "sql = 'CREATE DATABASE JNE'\n",
    "cursor.execute(sql)"
   ]
  },
  {
   "cell_type": "markdown",
   "metadata": {},
   "source": [
    "**Catatan:** Untuk mengecek database yang telah dibuat, buka Phpmyadmin dengan cara klik dua kali pada tombol `admin` pada aplikasi XAMPP yang telah diaktifkan sebelumnya. Berikut ini adalah hasilny; <img style=\"float: center; margin: 0px 0px 0px 0px; width:80%\" src=\"https://github.com/dsciencelabs/JNE_Data_Analytics_PySQL/blob/main/images/bab1/dbjne.png?raw=true\"/> "
   ]
  },
  {
   "cell_type": "markdown",
   "metadata": {},
   "source": [
    "## Membuat Tabel\n",
    "\n",
    "Cara membuat tabel sama seperti cara membuat database. Kita tinggal masukan perintah SQL atau query ke dalam method execute(). Namun sebelum itu, pastikan kontektor sudah diberikan parameter database untuk menentukan database mana yang akan digunakan."
   ]
  },
  {
   "cell_type": "code",
   "execution_count": 15,
   "metadata": {},
   "outputs": [],
   "source": [
    "import mysql.connector\n",
    "\n",
    "db3 = mysql.connector.connect(\n",
    "  host='localhost',\n",
    "  user='bakti',\n",
    "  passwd='123',\n",
    "  database='jne'\n",
    ")"
   ]
  },
  {
   "cell_type": "markdown",
   "metadata": {},
   "source": [
    "Pada kode di atas kita memberikan parameter database=\"jne\". Artinya kita akan mengunakan database tersebut pada koneksi objek `db3`. Sehingga,  untuk membuat tabel pada database dapat dilakukan dengan kode berikut;"
   ]
  },
  {
   "cell_type": "code",
   "execution_count": null,
   "metadata": {},
   "outputs": [],
   "source": [
    "cursor = db3.cursor()\n",
    "sql = '''CREATE TABLE karyawan (\n",
    "            karyawan_id INT AUTO_INCREMENT PRIMARY KEY,\n",
    "            nama VARCHAR(255),\n",
    "            email Varchar(255))'''\n",
    "\n",
    "cursor.execute(sql)"
   ]
  },
  {
   "cell_type": "markdown",
   "metadata": {},
   "source": [
    "**Pertanyaan:** \n",
    "\n",
    "* Mengapa koding SQL diatas menggunkan tanda tiga tanda petik ''' ?\n",
    "* Apakah memungkinkan, jika anda menambahkan tabel baru ke database JNE dengan menggunakan user lain?\n",
    "* Bagaimana caranya untuk menambahkan user baru yang dapat mengakses database anda?"
   ]
  },
  {
   "cell_type": "markdown",
   "metadata": {},
   "source": [
    "## Insert Data\n",
    "\n",
    "Setelah membuat tabel, berikutnya kita akan mencoba menambahkan data ke tabel. Perhatikan koding berikut:"
   ]
  },
  {
   "cell_type": "code",
   "execution_count": null,
   "metadata": {},
   "outputs": [],
   "source": [
    "cursor = db3.cursor()\n",
    "sql = 'INSERT INTO karyawan (nama, email) VALUES (%s, %s)'\n",
    "val = ('Bakti Siregar 2', 'dsciencelabs@outlook.com')\n",
    "cursor.execute(sql, val)\n",
    "\n",
    "db3.commit()\n",
    "\n",
    "print('{} data ditambahkan'.format(cursor.rowcount))"
   ]
  },
  {
   "cell_type": "markdown",
   "metadata": {},
   "source": [
    "**Pertanyaan:** \n",
    "\n",
    "Jika anda mencoba untuk menjalankan koding diatas berkali-kali, apakah yang terjadi?\n",
    "\n",
    "**Catatan** Untuk memastikan tidak ada data duplikat pada variabel tertentu, dapat dilakukan dengan merubah struktur tabel variabel tersebut menjadi `Unique`."
   ]
  },
  {
   "cell_type": "markdown",
   "metadata": {},
   "source": [
    "## Insert Beberapa Data\n",
    "\n",
    "Lalu, bagaimana cara menambahkan beberapa data sekaligus? Kita bisa lakukan hal tersebut dengan fungsi perulangan, sebagai berikut;"
   ]
  },
  {
   "cell_type": "code",
   "execution_count": null,
   "metadata": {},
   "outputs": [],
   "source": [
    "cursor = db3.cursor()\n",
    "sql = \"INSERT INTO karyawan (nama, email) VALUES (%s, %s)\"\n",
    "values = [\n",
    "  (\"Clara\", \"clara@gmail.com\"),\n",
    "  (\"Yosia\", \"yosia@gmail.com\"),\n",
    "  (\"Fani\", \"fani@yahoo.com\")\n",
    "]\n",
    "\n",
    "for val in values:\n",
    "  cursor.execute(sql, val)\n",
    "  db3.commit()\n",
    "\n",
    "print(\"{} data ditambahkan\".format(len(values)))"
   ]
  },
  {
   "cell_type": "markdown",
   "metadata": {},
   "source": [
    "## Menampilkan Data\n",
    "\n",
    "Kita dapat menampilkan data dari MySQL dengan query `SELECT`. Kemudian kita ambil datanya dengan method:\n",
    "\n",
    "* `fetchall()` untuk ambil semua data;\n",
    "* `fetchone()` untuk mengambil satu data pertama saja.\n",
    "* `fetachmany(10)` untuk ambil 10 data;\n",
    "\n",
    "**Catatan:** Metode ini akan mengembalikan sebuah data list yang berisi tuple."
   ]
  },
  {
   "cell_type": "code",
   "execution_count": 23,
   "metadata": {},
   "outputs": [
    {
     "name": "stdout",
     "output_type": "stream",
     "text": [
      "(1, 'Bakti Siregar', 'dsciencelabs@outlook.com')\n",
      "(2, 'Ardianta', 'ardianta@gmail.com')\n",
      "(3, 'Yosia', 'yosia@gmail.com')\n"
     ]
    }
   ],
   "source": [
    "cursor = db3.cursor()\n",
    "sql = \"SELECT * FROM karyawan\"\n",
    "cursor.execute(sql)\n",
    "\n",
    "results = cursor.fetchall()\n",
    "\n",
    "for data in results:\n",
    "  print(data)"
   ]
  },
  {
   "cell_type": "markdown",
   "metadata": {},
   "source": [
    "## Update Data\n",
    "\n",
    "Kurang lebih caranya sama seperti melakukan insert data. Bedanya, disini digunakan query `UPDATE`"
   ]
  },
  {
   "cell_type": "code",
   "execution_count": 20,
   "metadata": {},
   "outputs": [
    {
     "name": "stdout",
     "output_type": "stream",
     "text": [
      "1 data diubah\n"
     ]
    }
   ],
   "source": [
    "cursor = db3.cursor()\n",
    "sql = \"UPDATE karyawan SET nama=%s, email=%s WHERE karyawan_id=%s\"\n",
    "val = (\"Ardianta\", \"ardianta@gmail.com\", 2)\n",
    "cursor.execute(sql, val)\n",
    "\n",
    "db3.commit()\n",
    "\n",
    "print(\"{} data diubah\".format(cursor.rowcount))"
   ]
  },
  {
   "cell_type": "markdown",
   "metadata": {},
   "source": [
    "## Hapus Data\n",
    "\n",
    "Pada bagian hapus data sama seperti update data. Kita harus menggunakan query `DELETE` untuk menghapus dan `WHERE` untuk menentukan data yang akan dihapus."
   ]
  },
  {
   "cell_type": "code",
   "execution_count": 22,
   "metadata": {},
   "outputs": [
    {
     "name": "stdout",
     "output_type": "stream",
     "text": [
      "1 data dihapus\n"
     ]
    }
   ],
   "source": [
    "cursor = db3.cursor()\n",
    "sql = \"DELETE FROM karyawan WHERE karyawan_id=%s\"\n",
    "val = (4, )\n",
    "cursor.execute(sql, val)\n",
    "\n",
    "db3.commit()\n",
    "\n",
    "print(\"{} data dihapus\".format(cursor.rowcount))"
   ]
  },
  {
   "cell_type": "code",
   "execution_count": null,
   "metadata": {},
   "outputs": [],
   "source": []
  }
 ],
 "metadata": {
  "kernelspec": {
   "display_name": "Python 3 (ipykernel)",
   "language": "python",
   "name": "python3"
  },
  "language_info": {
   "codemirror_mode": {
    "name": "ipython",
    "version": 3
   },
   "file_extension": ".py",
   "mimetype": "text/x-python",
   "name": "python",
   "nbconvert_exporter": "python",
   "pygments_lexer": "ipython3",
   "version": "3.10.9"
  }
 },
 "nbformat": 4,
 "nbformat_minor": 4
}
