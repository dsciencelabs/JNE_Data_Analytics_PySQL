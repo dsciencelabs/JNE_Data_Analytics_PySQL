{
 "cells": [
  {
   "cell_type": "markdown",
   "metadata": {},
   "source": [
    "Seperti telah kita pelajari, untuk meng-akses database ada beberapa perangkat lunak yang dapat digunakan. Secara khusus pada pelatihan **(\"Data Analytics with Python+SQL\")** ini kita akan fokus untuk menggunakan dua diantaranya; MySQL dan PostgreeSQL.\n",
    "<hr> \n",
    "\n",
    "# Akses MySQL dengan Python\n",
    "\n",
    "Berikut ini akan diperlihatkan langkah-langkah untuk mengakses MySQL dengan Python:\n",
    "\n",
    "## Instalasi Modul MySQL Connector\n",
    "\n",
    "Untuk dapat menghubunkan Python dengan MySQL, diperlukan mudul (Packages) yang berisi fungsi-fungsi  dan perintah yang dapat dipergunakan dalam mengakses MySQL."
   ]
  },
  {
   "cell_type": "code",
   "execution_count": 1,
   "metadata": {},
   "outputs": [
    {
     "name": "stdout",
     "output_type": "stream",
     "text": [
      "Requirement already satisfied: mysql-connector in c:\\users\\user\\anaconda3\\lib\\site-packages (2.2.9)\n",
      "Note: you may need to restart the kernel to use updated packages.\n"
     ]
    }
   ],
   "source": [
    "pip install mysql-connector"
   ]
  },
  {
   "cell_type": "markdown",
   "metadata": {},
   "source": [
    "## Aktifkan MySQL\n",
    "\n",
    "**Jangan pernah lupa** mengaktifkan MySQL melalui aplikasi XAMPP untuk dapat menghubungkan MySQL dengan Python. Klik **Start** pada tombol **Apache** dan **MySQL** dan pastikan berwarna hijau, seperti terlihat pada gambar dibawah ini. \n",
    "\n",
    "<img style=\"float: center; margin: 0px 0px 0px 0px; width:80%\" src=\"https://github.com/dsciencelabs/JNE_Data_Analytics_PySQL/blob/main/images/bab1/xampp8.png?raw=true\"/> "
   ]
  },
  {
   "cell_type": "markdown",
   "metadata": {},
   "source": [
    "## Koneksikan Python ke SQL\n",
    "\n",
    "Pertama-tama kita membutuhkan modul `mysql.connector` untuk membuat koneksi ke MySQL. Kemudian kita membuat koneksi dengan memanggil fungsi `connect()` dan parameter\n",
    "\n",
    "* `host`  : Hosting (Alamat penyimpanan database), bisa lokal dan situs tertentu.\n",
    "* `user`  : Nama user yang dapat melakukan akses ke database tersebut\n",
    "* `passwd`: Sandi yang hanya diberikan kepad user yang memiliki hak akses ke database\n",
    "\n",
    "Perhatikan, koding berikut:"
   ]
  },
  {
   "cell_type": "code",
   "execution_count": 1,
   "metadata": {},
   "outputs": [
    {
     "name": "stdout",
     "output_type": "stream",
     "text": [
      "Berhasil terhubung ke database\n"
     ]
    }
   ],
   "source": [
    "import mysql.connector\n",
    "\n",
    "db1 = mysql.connector.connect(\n",
    "  host='localhost',\n",
    "  user='jne',\n",
    "  passwd='123'\n",
    ")\n",
    "\n",
    "if db1.is_connected():\n",
    "  print('Berhasil terhubung ke database')"
   ]
  },
  {
   "cell_type": "markdown",
   "metadata": {},
   "source": [
    "**Catatan:**\n",
    "<br>\n",
    "Jika anda ingin terkoneksi ke MySQL secara default, tanpa menggunakan **Password**. Dapat mengikuti koding berikut:"
   ]
  },
  {
   "cell_type": "code",
   "execution_count": 6,
   "metadata": {},
   "outputs": [
    {
     "name": "stdout",
     "output_type": "stream",
     "text": [
      "Berhasil terhubung ke database\n"
     ]
    }
   ],
   "source": [
    "import mysql.connector\n",
    "\n",
    "db2 = mysql.connector.connect(\n",
    "  host='localhost',\n",
    "  user='root',\n",
    "  passwd=''\n",
    ")\n",
    "\n",
    "if db2.is_connected():\n",
    "  print('Berhasil terhubung ke database')"
   ]
  },
  {
   "cell_type": "markdown",
   "metadata": {},
   "source": [
    "## Membuat Database\n",
    "\n",
    "Kita sudah berhasil membuat objek `db1` dan `db2` yang akan bertugas sebagai konektor ke MySQL. Kemudian kita masih membutuhkan satu lagi objek yaitu `cursor` untuk mengeksekusi perintah SQL atau query. Karena objek tersebut berada di dalam objek `db1` dan `db2`, sehingga untuk membuat objek `cursor` adalah sebagai berikut:"
   ]
  },
  {
   "cell_type": "code",
   "execution_count": 3,
   "metadata": {},
   "outputs": [
    {
     "ename": "DatabaseError",
     "evalue": "1007 (HY000): Can't create database 'jne'; database exists",
     "output_type": "error",
     "traceback": [
      "\u001b[1;31m---------------------------------------------------------------------------\u001b[0m",
      "\u001b[1;31mDatabaseError\u001b[0m                             Traceback (most recent call last)",
      "Cell \u001b[1;32mIn[3], line 2\u001b[0m\n\u001b[0;32m      1\u001b[0m cursor1 \u001b[38;5;241m=\u001b[39m db1\u001b[38;5;241m.\u001b[39mcursor()\n\u001b[1;32m----> 2\u001b[0m \u001b[43mcursor1\u001b[49m\u001b[38;5;241;43m.\u001b[39;49m\u001b[43mexecute\u001b[49m\u001b[43m(\u001b[49m\u001b[38;5;124;43m'\u001b[39;49m\u001b[38;5;124;43mCREATE DATABASE jne\u001b[39;49m\u001b[38;5;124;43m'\u001b[39;49m\u001b[43m)\u001b[49m\n",
      "File \u001b[1;32m~\\anaconda3\\lib\\site-packages\\mysql\\connector\\cursor.py:551\u001b[0m, in \u001b[0;36mMySQLCursor.execute\u001b[1;34m(self, operation, params, multi)\u001b[0m\n\u001b[0;32m    549\u001b[0m \u001b[38;5;28;01melse\u001b[39;00m:\n\u001b[0;32m    550\u001b[0m     \u001b[38;5;28;01mtry\u001b[39;00m:\n\u001b[1;32m--> 551\u001b[0m         \u001b[38;5;28mself\u001b[39m\u001b[38;5;241m.\u001b[39m_handle_result(\u001b[38;5;28;43mself\u001b[39;49m\u001b[38;5;241;43m.\u001b[39;49m\u001b[43m_connection\u001b[49m\u001b[38;5;241;43m.\u001b[39;49m\u001b[43mcmd_query\u001b[49m\u001b[43m(\u001b[49m\u001b[43mstmt\u001b[49m\u001b[43m)\u001b[49m)\n\u001b[0;32m    552\u001b[0m     \u001b[38;5;28;01mexcept\u001b[39;00m errors\u001b[38;5;241m.\u001b[39mInterfaceError:\n\u001b[0;32m    553\u001b[0m         \u001b[38;5;28;01mif\u001b[39;00m \u001b[38;5;28mself\u001b[39m\u001b[38;5;241m.\u001b[39m_connection\u001b[38;5;241m.\u001b[39m_have_next_result:  \u001b[38;5;66;03m# pylint: disable=W0212\u001b[39;00m\n",
      "File \u001b[1;32m~\\anaconda3\\lib\\site-packages\\mysql\\connector\\connection.py:490\u001b[0m, in \u001b[0;36mMySQLConnection.cmd_query\u001b[1;34m(self, query, raw, buffered, raw_as_string)\u001b[0m\n\u001b[0;32m    488\u001b[0m \u001b[38;5;28;01mif\u001b[39;00m \u001b[38;5;129;01mnot\u001b[39;00m \u001b[38;5;28misinstance\u001b[39m(query, \u001b[38;5;28mbytes\u001b[39m):\n\u001b[0;32m    489\u001b[0m     query \u001b[38;5;241m=\u001b[39m query\u001b[38;5;241m.\u001b[39mencode(\u001b[38;5;124m'\u001b[39m\u001b[38;5;124mutf-8\u001b[39m\u001b[38;5;124m'\u001b[39m)\n\u001b[1;32m--> 490\u001b[0m result \u001b[38;5;241m=\u001b[39m \u001b[38;5;28;43mself\u001b[39;49m\u001b[38;5;241;43m.\u001b[39;49m\u001b[43m_handle_result\u001b[49m\u001b[43m(\u001b[49m\u001b[38;5;28;43mself\u001b[39;49m\u001b[38;5;241;43m.\u001b[39;49m\u001b[43m_send_cmd\u001b[49m\u001b[43m(\u001b[49m\u001b[43mServerCmd\u001b[49m\u001b[38;5;241;43m.\u001b[39;49m\u001b[43mQUERY\u001b[49m\u001b[43m,\u001b[49m\u001b[43m \u001b[49m\u001b[43mquery\u001b[49m\u001b[43m)\u001b[49m\u001b[43m)\u001b[49m\n\u001b[0;32m    492\u001b[0m \u001b[38;5;28;01mif\u001b[39;00m \u001b[38;5;28mself\u001b[39m\u001b[38;5;241m.\u001b[39m_have_next_result:\n\u001b[0;32m    493\u001b[0m     \u001b[38;5;28;01mraise\u001b[39;00m errors\u001b[38;5;241m.\u001b[39mInterfaceError(\n\u001b[0;32m    494\u001b[0m         \u001b[38;5;124m'\u001b[39m\u001b[38;5;124mUse cmd_query_iter for statements with multiple queries.\u001b[39m\u001b[38;5;124m'\u001b[39m)\n",
      "File \u001b[1;32m~\\anaconda3\\lib\\site-packages\\mysql\\connector\\connection.py:395\u001b[0m, in \u001b[0;36mMySQLConnection._handle_result\u001b[1;34m(self, packet)\u001b[0m\n\u001b[0;32m    393\u001b[0m     \u001b[38;5;28;01mreturn\u001b[39;00m \u001b[38;5;28mself\u001b[39m\u001b[38;5;241m.\u001b[39m_handle_eof(packet)\n\u001b[0;32m    394\u001b[0m \u001b[38;5;28;01melif\u001b[39;00m packet[\u001b[38;5;241m4\u001b[39m] \u001b[38;5;241m==\u001b[39m \u001b[38;5;241m255\u001b[39m:\n\u001b[1;32m--> 395\u001b[0m     \u001b[38;5;28;01mraise\u001b[39;00m errors\u001b[38;5;241m.\u001b[39mget_exception(packet)\n\u001b[0;32m    397\u001b[0m \u001b[38;5;66;03m# We have a text result set\u001b[39;00m\n\u001b[0;32m    398\u001b[0m column_count \u001b[38;5;241m=\u001b[39m \u001b[38;5;28mself\u001b[39m\u001b[38;5;241m.\u001b[39m_protocol\u001b[38;5;241m.\u001b[39mparse_column_count(packet)\n",
      "\u001b[1;31mDatabaseError\u001b[0m: 1007 (HY000): Can't create database 'jne'; database exists"
     ]
    }
   ],
   "source": [
    "cursor1 = db1.cursor()\n",
    "cursor1.execute('CREATE DATABASE jne')"
   ]
  },
  {
   "cell_type": "markdown",
   "metadata": {},
   "source": [
    "atau, "
   ]
  },
  {
   "cell_type": "code",
   "execution_count": 12,
   "metadata": {},
   "outputs": [],
   "source": [
    "cursor2 = db2.cursor()\n",
    "cursor2.execute('CREATE DATABASE JNE')"
   ]
  },
  {
   "cell_type": "markdown",
   "metadata": {},
   "source": [
    "**Pertanyaan:** Dari kedua koding tersebut diatas, apakah yang menurut anda berbeda?"
   ]
  },
  {
   "cell_type": "markdown",
   "metadata": {},
   "source": [
    "Cara lain, "
   ]
  },
  {
   "cell_type": "code",
   "execution_count": 7,
   "metadata": {},
   "outputs": [
    {
     "ename": "DatabaseError",
     "evalue": "1007 (HY000): Can't create database 'jne'; database exists",
     "output_type": "error",
     "traceback": [
      "\u001b[1;31m---------------------------------------------------------------------------\u001b[0m",
      "\u001b[1;31mDatabaseError\u001b[0m                             Traceback (most recent call last)",
      "Cell \u001b[1;32mIn[7], line 3\u001b[0m\n\u001b[0;32m      1\u001b[0m cursor3 \u001b[38;5;241m=\u001b[39m db2\u001b[38;5;241m.\u001b[39mcursor()\n\u001b[0;32m      2\u001b[0m sql \u001b[38;5;241m=\u001b[39m \u001b[38;5;124m'\u001b[39m\u001b[38;5;124mCREATE DATABASE JNE\u001b[39m\u001b[38;5;124m'\u001b[39m\n\u001b[1;32m----> 3\u001b[0m \u001b[43mcursor3\u001b[49m\u001b[38;5;241;43m.\u001b[39;49m\u001b[43mexecute\u001b[49m\u001b[43m(\u001b[49m\u001b[43msql\u001b[49m\u001b[43m)\u001b[49m\n",
      "File \u001b[1;32m~\\anaconda3\\lib\\site-packages\\mysql\\connector\\cursor.py:551\u001b[0m, in \u001b[0;36mMySQLCursor.execute\u001b[1;34m(self, operation, params, multi)\u001b[0m\n\u001b[0;32m    549\u001b[0m \u001b[38;5;28;01melse\u001b[39;00m:\n\u001b[0;32m    550\u001b[0m     \u001b[38;5;28;01mtry\u001b[39;00m:\n\u001b[1;32m--> 551\u001b[0m         \u001b[38;5;28mself\u001b[39m\u001b[38;5;241m.\u001b[39m_handle_result(\u001b[38;5;28;43mself\u001b[39;49m\u001b[38;5;241;43m.\u001b[39;49m\u001b[43m_connection\u001b[49m\u001b[38;5;241;43m.\u001b[39;49m\u001b[43mcmd_query\u001b[49m\u001b[43m(\u001b[49m\u001b[43mstmt\u001b[49m\u001b[43m)\u001b[49m)\n\u001b[0;32m    552\u001b[0m     \u001b[38;5;28;01mexcept\u001b[39;00m errors\u001b[38;5;241m.\u001b[39mInterfaceError:\n\u001b[0;32m    553\u001b[0m         \u001b[38;5;28;01mif\u001b[39;00m \u001b[38;5;28mself\u001b[39m\u001b[38;5;241m.\u001b[39m_connection\u001b[38;5;241m.\u001b[39m_have_next_result:  \u001b[38;5;66;03m# pylint: disable=W0212\u001b[39;00m\n",
      "File \u001b[1;32m~\\anaconda3\\lib\\site-packages\\mysql\\connector\\connection.py:490\u001b[0m, in \u001b[0;36mMySQLConnection.cmd_query\u001b[1;34m(self, query, raw, buffered, raw_as_string)\u001b[0m\n\u001b[0;32m    488\u001b[0m \u001b[38;5;28;01mif\u001b[39;00m \u001b[38;5;129;01mnot\u001b[39;00m \u001b[38;5;28misinstance\u001b[39m(query, \u001b[38;5;28mbytes\u001b[39m):\n\u001b[0;32m    489\u001b[0m     query \u001b[38;5;241m=\u001b[39m query\u001b[38;5;241m.\u001b[39mencode(\u001b[38;5;124m'\u001b[39m\u001b[38;5;124mutf-8\u001b[39m\u001b[38;5;124m'\u001b[39m)\n\u001b[1;32m--> 490\u001b[0m result \u001b[38;5;241m=\u001b[39m \u001b[38;5;28;43mself\u001b[39;49m\u001b[38;5;241;43m.\u001b[39;49m\u001b[43m_handle_result\u001b[49m\u001b[43m(\u001b[49m\u001b[38;5;28;43mself\u001b[39;49m\u001b[38;5;241;43m.\u001b[39;49m\u001b[43m_send_cmd\u001b[49m\u001b[43m(\u001b[49m\u001b[43mServerCmd\u001b[49m\u001b[38;5;241;43m.\u001b[39;49m\u001b[43mQUERY\u001b[49m\u001b[43m,\u001b[49m\u001b[43m \u001b[49m\u001b[43mquery\u001b[49m\u001b[43m)\u001b[49m\u001b[43m)\u001b[49m\n\u001b[0;32m    492\u001b[0m \u001b[38;5;28;01mif\u001b[39;00m \u001b[38;5;28mself\u001b[39m\u001b[38;5;241m.\u001b[39m_have_next_result:\n\u001b[0;32m    493\u001b[0m     \u001b[38;5;28;01mraise\u001b[39;00m errors\u001b[38;5;241m.\u001b[39mInterfaceError(\n\u001b[0;32m    494\u001b[0m         \u001b[38;5;124m'\u001b[39m\u001b[38;5;124mUse cmd_query_iter for statements with multiple queries.\u001b[39m\u001b[38;5;124m'\u001b[39m)\n",
      "File \u001b[1;32m~\\anaconda3\\lib\\site-packages\\mysql\\connector\\connection.py:395\u001b[0m, in \u001b[0;36mMySQLConnection._handle_result\u001b[1;34m(self, packet)\u001b[0m\n\u001b[0;32m    393\u001b[0m     \u001b[38;5;28;01mreturn\u001b[39;00m \u001b[38;5;28mself\u001b[39m\u001b[38;5;241m.\u001b[39m_handle_eof(packet)\n\u001b[0;32m    394\u001b[0m \u001b[38;5;28;01melif\u001b[39;00m packet[\u001b[38;5;241m4\u001b[39m] \u001b[38;5;241m==\u001b[39m \u001b[38;5;241m255\u001b[39m:\n\u001b[1;32m--> 395\u001b[0m     \u001b[38;5;28;01mraise\u001b[39;00m errors\u001b[38;5;241m.\u001b[39mget_exception(packet)\n\u001b[0;32m    397\u001b[0m \u001b[38;5;66;03m# We have a text result set\u001b[39;00m\n\u001b[0;32m    398\u001b[0m column_count \u001b[38;5;241m=\u001b[39m \u001b[38;5;28mself\u001b[39m\u001b[38;5;241m.\u001b[39m_protocol\u001b[38;5;241m.\u001b[39mparse_column_count(packet)\n",
      "\u001b[1;31mDatabaseError\u001b[0m: 1007 (HY000): Can't create database 'jne'; database exists"
     ]
    }
   ],
   "source": [
    "cursor3 = db2.cursor()\n",
    "sql = 'CREATE DATABASE JNE'\n",
    "cursor3.execute(sql)"
   ]
  },
  {
   "cell_type": "markdown",
   "metadata": {},
   "source": [
    "**Catatan:** Untuk mengecek database yang telah dibuat, buka Phpmyadmin dengan cara klik dua kali pada tombol `admin` pada aplikasi XAMPP yang telah diaktifkan sebelumnya. Berikut ini adalah hasilny; <img style=\"float: center; margin: 0px 0px 0px 0px; width:80%\" src=\"https://github.com/dsciencelabs/JNE_Data_Analytics_PySQL/blob/main/images/bab1/dbjne.png?raw=true\"/> "
   ]
  },
  {
   "cell_type": "markdown",
   "metadata": {},
   "source": [
    "## Membuat Tabel\n",
    "\n",
    "Cara membuat tabel sama seperti cara membuat database. Kita tinggal masukan perintah SQL atau query ke dalam method execute(). Namun sebelum itu, pastikan kontektor sudah diberikan parameter database untuk menentukan database mana yang akan digunakan."
   ]
  },
  {
   "cell_type": "code",
   "execution_count": 8,
   "metadata": {},
   "outputs": [],
   "source": [
    "import mysql.connector\n",
    "\n",
    "db3 = mysql.connector.connect(\n",
    "  host='localhost',\n",
    "  user='bakti',\n",
    "  passwd='123',\n",
    "  database='jne'\n",
    ")"
   ]
  },
  {
   "cell_type": "markdown",
   "metadata": {},
   "source": [
    "Pada kode di atas kita memberikan parameter database=\"jne\". Artinya kita akan mengunakan database tersebut pada koneksi objek `db3`. Sehingga,  untuk membuat tabel pada database dapat dilakukan dengan kode berikut;"
   ]
  },
  {
   "cell_type": "code",
   "execution_count": 13,
   "metadata": {},
   "outputs": [],
   "source": [
    "cursor3 = db3.cursor()\n",
    "sql = '''CREATE TABLE karyawan (\n",
    "            karyawan_id INT AUTO_INCREMENT PRIMARY KEY,\n",
    "            nama VARCHAR(255),\n",
    "            email Varchar(255))'''\n",
    "\n",
    "cursor3.execute(sql)"
   ]
  },
  {
   "cell_type": "markdown",
   "metadata": {},
   "source": [
    "**Pertanyaan:** \n",
    "\n",
    "* Mengapa koding SQL diatas menggunkan tanda tiga tanda petik ''' ?\n",
    "* Apakah memungkinkan, jika anda menambahkan tabel baru ke database JNE dengan menggunakan user lain?\n",
    "* Bagaimana caranya untuk menambahkan user baru yang dapat mengakses database anda?"
   ]
  },
  {
   "cell_type": "markdown",
   "metadata": {},
   "source": [
    "## Insert Data\n",
    "\n",
    "Setelah membuat tabel, berikutnya kita akan mencoba menambahkan data ke tabel. Perhatikan koding berikut:"
   ]
  },
  {
   "cell_type": "code",
   "execution_count": 14,
   "metadata": {},
   "outputs": [
    {
     "name": "stdout",
     "output_type": "stream",
     "text": [
      "1 data ditambahkan\n"
     ]
    }
   ],
   "source": [
    "sql = 'INSERT INTO karyawan (nama, email) VALUES (%s, %s)'\n",
    "val = ('Bakti Siregar 2', 'dsciencelabs@outlook.com')\n",
    "cursor3.execute(sql, val)\n",
    "\n",
    "db3.commit()\n",
    "\n",
    "print('{} data ditambahkan'.format(cursor3.rowcount))"
   ]
  },
  {
   "cell_type": "markdown",
   "metadata": {},
   "source": [
    "**Pertanyaan:** \n",
    "\n",
    "Jika anda mencoba untuk menjalankan koding diatas berkali-kali, apakah yang terjadi?\n",
    "\n",
    "**Catatan** Untuk memastikan tidak ada data duplikat pada variabel tertentu, dapat dilakukan dengan merubah struktur tabel variabel tersebut menjadi `Unique`."
   ]
  },
  {
   "cell_type": "markdown",
   "metadata": {},
   "source": [
    "## Insert Beberapa Data\n",
    "\n",
    "Lalu, bagaimana cara menambahkan beberapa data sekaligus? Kita bisa lakukan hal tersebut dengan fungsi perulangan, sebagai berikut;"
   ]
  },
  {
   "cell_type": "code",
   "execution_count": 16,
   "metadata": {},
   "outputs": [
    {
     "name": "stdout",
     "output_type": "stream",
     "text": [
      "3 data ditambahkan\n"
     ]
    }
   ],
   "source": [
    "sql = \"INSERT INTO karyawan (nama, email) VALUES (%s, %s)\"\n",
    "values = [\n",
    "  (\"Clara\", \"clara@gmail.com\"),\n",
    "  (\"Yosia\", \"yosia@gmail.com\"),\n",
    "  (\"Fani\", \"fani@yahoo.com\")\n",
    "]\n",
    "\n",
    "for val in values:\n",
    "  cursor3.execute(sql, val)\n",
    "  db3.commit()\n",
    "\n",
    "print(\"{} data ditambahkan\".format(len(values)))"
   ]
  },
  {
   "cell_type": "markdown",
   "metadata": {},
   "source": [
    "## Menampilkan Data\n",
    "\n",
    "Kita dapat menampilkan data dari MySQL dengan query `SELECT`. Kemudian kita ambil datanya dengan method:\n",
    "\n",
    "* `fetchall()` untuk ambil semua data;\n",
    "* `fetchone()` untuk mengambil satu data pertama saja.\n",
    "* `fetachmany(10)` untuk ambil 10 data;\n",
    "\n",
    "**Catatan:** Metode ini akan mengembalikan sebuah data list yang berisi tuple."
   ]
  },
  {
   "cell_type": "code",
   "execution_count": 21,
   "metadata": {},
   "outputs": [
    {
     "name": "stdout",
     "output_type": "stream",
     "text": [
      "(1, 'Bakti Siregar 2', 'dsciencelabs@outlook.com')\n",
      "(2, 'Ardianta', 'ardianta@gmail.com')\n",
      "(3, 'Yosia', 'yosia@gmail.com')\n"
     ]
    }
   ],
   "source": [
    "sql = \"SELECT * FROM karyawan\"\n",
    "cursor3.execute(sql)\n",
    "\n",
    "results = cursor3.fetchall()\n",
    "\n",
    "for data in results:\n",
    "  print(data)"
   ]
  },
  {
   "cell_type": "markdown",
   "metadata": {},
   "source": [
    "## Update Data\n",
    "\n",
    "Kurang lebih caranya sama seperti melakukan insert data. Bedanya, disini digunakan query `UPDATE`"
   ]
  },
  {
   "cell_type": "code",
   "execution_count": 18,
   "metadata": {},
   "outputs": [
    {
     "name": "stdout",
     "output_type": "stream",
     "text": [
      "1 data diubah\n"
     ]
    }
   ],
   "source": [
    "sql = \"UPDATE karyawan SET nama=%s, email=%s WHERE karyawan_id=%s\"\n",
    "val = (\"Ardianta\", \"ardianta@gmail.com\", 2)\n",
    "cursor3.execute(sql, val)\n",
    "\n",
    "db3.commit()\n",
    "\n",
    "print(\"{} data diubah\".format(cursor3.rowcount))"
   ]
  },
  {
   "cell_type": "markdown",
   "metadata": {},
   "source": [
    "## Hapus Data\n",
    "\n",
    "Pada bagian hapus data sama seperti update data. Kita harus menggunakan query `DELETE` untuk menghapus dan `WHERE` untuk menentukan data yang akan dihapus."
   ]
  },
  {
   "cell_type": "code",
   "execution_count": 22,
   "metadata": {},
   "outputs": [
    {
     "name": "stdout",
     "output_type": "stream",
     "text": [
      "0 data dihapus\n"
     ]
    }
   ],
   "source": [
    "sql = \"DELETE FROM karyawan WHERE karyawan_id=%s\"\n",
    "val = (4, )\n",
    "cursor3.execute(sql, val)\n",
    "\n",
    "db3.commit()\n",
    "\n",
    "print(\"{} data dihapus\".format(cursor3.rowcount))"
   ]
  },
  {
   "cell_type": "code",
   "execution_count": null,
   "metadata": {},
   "outputs": [],
   "source": []
  }
 ],
 "metadata": {
  "kernelspec": {
   "display_name": "Python 3 (ipykernel)",
   "language": "python",
   "name": "python3"
  },
  "language_info": {
   "codemirror_mode": {
    "name": "ipython",
    "version": 3
   },
   "file_extension": ".py",
   "mimetype": "text/x-python",
   "name": "python",
   "nbconvert_exporter": "python",
   "pygments_lexer": "ipython3",
   "version": "3.11.4"
  }
 },
 "nbformat": 4,
 "nbformat_minor": 4
}
