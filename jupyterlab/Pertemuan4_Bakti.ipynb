{
 "cells": [
  {
   "cell_type": "markdown",
   "id": "1d248ab4-a105-49ac-8e9f-b4da53db83af",
   "metadata": {},
   "source": [
    "# Latihan "
   ]
  },
  {
   "cell_type": "markdown",
   "id": "e90bb7bf-e7b5-47fe-a2fd-a0dbf6bf2fcc",
   "metadata": {},
   "source": [
    "## CREATE DATABASE"
   ]
  },
  {
   "cell_type": "code",
   "execution_count": 2,
   "id": "0f8a90ad-c1e8-470c-ad1f-c6c6df1446b8",
   "metadata": {},
   "outputs": [],
   "source": [
    "# import module \n",
    "import mysql.connector\n",
    "\n",
    "# koneksi server\n",
    "db1 = mysql.connector.connect(\n",
    "  host='localhost',\n",
    "  user='bakti',\n",
    "  passwd='123'\n",
    ")\n",
    "\n",
    "# membuat objek 'cursor` sebagai kata kunci eksekusi SQL\n",
    "cursor1 = db1.cursor()\n",
    "\n",
    "# Perintah SQL\n",
    "sql='''CREATE DATABASE IF NOT EXISTS join_tabel'''\n",
    "\n",
    "# Eksekusi perintah  SQL\n",
    "cursor1.execute(sql)"
   ]
  },
  {
   "cell_type": "markdown",
   "id": "94ac8de7-d45f-44ba-b0b2-f21dc94a67a9",
   "metadata": {},
   "source": [
    "## Check List Database"
   ]
  },
  {
   "cell_type": "code",
   "execution_count": 3,
   "id": "bce48d31-5970-477b-a8e2-ee0a7a84ebe9",
   "metadata": {},
   "outputs": [
    {
     "name": "stdout",
     "output_type": "stream",
     "text": [
      "('information_schema',)\n",
      "('jne2',)\n",
      "('jne4',)\n",
      "('join_tabel',)\n",
      "('mysql',)\n",
      "('performance_schema',)\n",
      "('phpmyadmin',)\n",
      "('test',)\n",
      "('unique_id',)\n"
     ]
    }
   ],
   "source": [
    "# Perintah SQL\n",
    "sql = 'SHOW DATABASES'\n",
    "\n",
    "# Eksekusi perintah  SQL\n",
    "cursor1.execute(sql)\n",
    "\n",
    "# menampilkan daftar database\n",
    "for x in cursor1:\n",
    "  print(x) "
   ]
  },
  {
   "cell_type": "markdown",
   "id": "359ab804-10d2-44fb-802f-f6cb988bd3b5",
   "metadata": {},
   "source": [
    "## CREATE TABEL"
   ]
  },
  {
   "cell_type": "markdown",
   "id": "ce28886b-07f4-40c3-8fcf-30809f026f3e",
   "metadata": {},
   "source": [
    "# import module \n",
    "import mysql.connector\n",
    "\n",
    "# koneksi server\n",
    "db2 = mysql.connector.connect(\n",
    "  host='localhost',\n",
    "  user='bakti',\n",
    "  passwd='123',\n",
    "  database='join_tabel'\n",
    ")\n",
    "\n",
    "# membuat objek 'cursor` sebagai kata kunci eksekusi SQL\n",
    "cursor2 = db2.cursor()"
   ]
  },
  {
   "cell_type": "markdown",
   "id": "81eaf47c-0287-491e-8d28-2a9f061c7145",
   "metadata": {},
   "source": [
    "## Create Tabel Barang"
   ]
  },
  {
   "cell_type": "code",
   "execution_count": 6,
   "id": "3ae2fc12-e6f7-4d27-82ab-9740202524f8",
   "metadata": {},
   "outputs": [],
   "source": [
    "# Perintah SQL\n",
    "sql = '''\n",
    "CREATE TABLE IF NOT EXISTS `barang` (\n",
    "  `id_barang` int(11) NOT NULL AUTO_INCREMENT,\n",
    "  `id_kategori` smallint(6) NOT NULL,\n",
    "  `nama_barang` varchar(255) CHARACTER SET latin1 NOT NULL,\n",
    "  `harga` int(11) NOT NULL,\n",
    "  `stok` int(11) NOT NULL,\n",
    "  PRIMARY KEY (`id_barang`)\n",
    "); \n",
    "'''\n",
    "\n",
    "# Eksekusi perintah  SQL\n",
    "cursor2.execute(sql)\n",
    "\n",
    "# Simpan perubahan\n",
    "db2.commit()"
   ]
  },
  {
   "cell_type": "markdown",
   "id": "9e46fc26-f9a9-4e74-a875-bf0c78a5d281",
   "metadata": {},
   "source": [
    "## Create Tabel Pelanggan"
   ]
  },
  {
   "cell_type": "code",
   "execution_count": 7,
   "id": "93b962a4-999f-4acd-8257-b4e01ebb4ff4",
   "metadata": {},
   "outputs": [],
   "source": [
    "# Perintah SQL\n",
    "sql = ''' \n",
    "CREATE TABLE IF NOT EXISTS `pelanggan` (\n",
    "  `id_pelanggan` int(11) NOT NULL AUTO_INCREMENT,\n",
    "  `nama` varchar(50) DEFAULT NULL,\n",
    "  `email` varchar(50) DEFAULT NULL,\n",
    "  PRIMARY KEY (`id_pelanggan`) \n",
    "); \n",
    "'''\n",
    "\n",
    "# Eksekusi perintah  SQL\n",
    "cursor2.execute(sql)\n",
    "\n",
    "# Simpan perubahan\n",
    "db2.commit()"
   ]
  },
  {
   "cell_type": "markdown",
   "id": "91066c31-9926-4fa1-bc5c-ed1db896b1e1",
   "metadata": {},
   "source": [
    "## Create Tabel Penjualan"
   ]
  },
  {
   "cell_type": "code",
   "execution_count": 8,
   "id": "44b0964d-4c5b-4c73-ab15-f0eb1985ab84",
   "metadata": {},
   "outputs": [],
   "source": [
    "# Perintah SQL\n",
    "sql = ''' \n",
    "CREATE TABLE IF NOT EXISTS `penjualan` (\n",
    "  `id_transaksi` int(11) NOT NULL AUTO_INCREMENT,\n",
    "  `id_pelanggan` int(11) DEFAULT NULL,\n",
    "  `tgl_transaksi` date NOT NULL,\n",
    "  `total_transaksi` int(11) NOT NULL,\n",
    "  PRIMARY KEY (`id_transaksi`),\n",
    "  KEY `FK_penjualan_pelanggan` (`id_pelanggan`),\n",
    "  CONSTRAINT `FK_penjualan_pelanggan` FOREIGN KEY (`id_pelanggan`) REFERENCES `pelanggan` (`id_pelanggan`) ON DELETE SET NULL ON UPDATE CASCADE\n",
    "); \n",
    "'''\n",
    "\n",
    "# Eksekusi perintah  SQL\n",
    "cursor2.execute(sql)\n",
    "\n",
    "# Simpan perubahan\n",
    "db2.commit()"
   ]
  },
  {
   "cell_type": "markdown",
   "id": "63f6990b-8d02-448e-ad20-f8f2d9a299f0",
   "metadata": {},
   "source": [
    "## Create Tabel Penjualan Detail"
   ]
  },
  {
   "cell_type": "code",
   "execution_count": 9,
   "id": "137541ed-e996-485c-b566-21ddda775093",
   "metadata": {},
   "outputs": [],
   "source": [
    "# Perintah SQL\n",
    "sql = ''' \n",
    "CREATE TABLE IF NOT EXISTS `penjualan_detail` (\n",
    "  `id_transaksi_detail` int(11) NOT NULL AUTO_INCREMENT,\n",
    "  `id_transaksi` int(11) DEFAULT NULL,\n",
    "  `id_barang` int(11) DEFAULT NULL,\n",
    "  `jml_barang` smallint(6) DEFAULT NULL,\n",
    "  `harga_satuan` int(11) DEFAULT NULL,\n",
    "  PRIMARY KEY (`id_transaksi_detail`),\n",
    "  KEY `FK_tb_penjualan_detail_tb_barang` (`id_barang`),\n",
    "  KEY `FK_tb_penjualan_detail_tb_penjualan` (`id_transaksi`),\n",
    "  CONSTRAINT `FK_tb_penjualan_detail_tb_barang` FOREIGN KEY (`id_barang`) REFERENCES `barang` (`id_barang`) ON DELETE CASCADE ON UPDATE CASCADE,\n",
    "  CONSTRAINT `FK_tb_penjualan_detail_tb_penjualan` FOREIGN KEY (`id_transaksi`) REFERENCES `penjualan` (`id_transaksi`) ON DELETE CASCADE ON UPDATE CASCADE\n",
    ")\n",
    "'''\n",
    "\n",
    "# Eksekusi perintah  SQL\n",
    "cursor2.execute(sql)\n",
    "\n",
    "# Simpan perubahan\n",
    "db2.commit()"
   ]
  },
  {
   "cell_type": "code",
   "execution_count": null,
   "id": "39febbbe-e595-412b-8ae4-17da328f4187",
   "metadata": {},
   "outputs": [],
   "source": []
  }
 ],
 "metadata": {
  "kernelspec": {
   "display_name": "Python 3 (ipykernel)",
   "language": "python",
   "name": "python3"
  },
  "language_info": {
   "codemirror_mode": {
    "name": "ipython",
    "version": 3
   },
   "file_extension": ".py",
   "mimetype": "text/x-python",
   "name": "python",
   "nbconvert_exporter": "python",
   "pygments_lexer": "ipython3",
   "version": "3.10.9"
  }
 },
 "nbformat": 4,
 "nbformat_minor": 5
}
