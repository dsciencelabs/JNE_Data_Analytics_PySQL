{
 "cells": [
  {
   "cell_type": "markdown",
   "id": "7df2edf0-2328-4b31-850a-e336ac18dc6d",
   "metadata": {},
   "source": [
    "# 1. Buatlah Visualisasi Data Customer PEREMPUAN berdasarkan Negara dengan memperhatikan status hanya \"RETURNED\""
   ]
  },
  {
   "cell_type": "markdown",
   "id": "6e7d541a-2971-4f84-9085-2fe59a771b08",
   "metadata": {},
   "source": [
    "# 2. Melihat Status Data HANYA PADA TAHUN 2020 dengan berdasarkan total orders serta buatkan visualisasi datanya"
   ]
  },
  {
   "cell_type": "markdown",
   "id": "92cd7277-4b8e-4e9d-bd17-8acc79a34996",
   "metadata": {},
   "source": [
    "# 3.Berapa banyak pesanan yang Complete dan Returned bandingkan dalam satu plot? (Tahun 2020-01-01 sampai 2023-12-31) dan Buatkan Visualisasi Datanya!"
   ]
  },
  {
   "cell_type": "markdown",
   "id": "aa7611bd-4ab7-4e26-a912-b92914e63569",
   "metadata": {},
   "source": [
    "# 4. Produk category apa yang memiliki penjualan tertinggi (revenue) pada setiap tahun (dibandingakan)? (2020-2023) dan Buatkan Visualisasi datanya!\n",
    "*note= status nya harus Complete,Shipped,Processing. Jangan masukan status yang Cancelled dan Returned \n",
    "\n",
    "Hint : sale_price pada *order_items* dikali dengan num_of_time pada *orders* untuk menentukan revenue \n",
    "jadi ada 3 tabel yang digunakan yaitu *products, orders, order_items*"
   ]
  },
  {
   "cell_type": "markdown",
   "id": "b9b6321f-ef48-47e8-a555-4e5e1277e609",
   "metadata": {},
   "source": [
    "# 5. Melihat Data Customers dengan berdasarkan Country dan buatkan visualisasinya menggunakan Pie Chart"
   ]
  },
  {
   "cell_type": "markdown",
   "id": "795da613-0ff9-4d50-99f1-fd67e4eb853e",
   "metadata": {},
   "source": [
    "# 6. Melihat Penjualan Tahunan berdasarkan status yang 'COMPLETE\" berdasarkan profit dan reveneunya dengan menerapkannya pada visualisasi data"
   ]
  },
  {
   "cell_type": "code",
   "execution_count": null,
   "id": "e40ece5c-ae39-42e3-97ea-51f8db2a79ba",
   "metadata": {},
   "outputs": [],
   "source": []
  }
 ],
 "metadata": {
  "kernelspec": {
   "display_name": "Python 3 (ipykernel)",
   "language": "python",
   "name": "python3"
  },
  "language_info": {
   "codemirror_mode": {
    "name": "ipython",
    "version": 3
   },
   "file_extension": ".py",
   "mimetype": "text/x-python",
   "name": "python",
   "nbconvert_exporter": "python",
   "pygments_lexer": "ipython3",
   "version": "3.10.9"
  }
 },
 "nbformat": 4,
 "nbformat_minor": 5
}
