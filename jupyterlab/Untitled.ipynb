{
 "cells": [
  {
   "cell_type": "markdown",
   "id": "3cb561bd-3fcd-4e1e-a7ae-6b3786add40c",
   "metadata": {},
   "source": [
    "# Akses Localhost dengan Python\n",
    "\n",
    "## Koneksi MySQ"
   ]
  }
 ],
 "metadata": {
  "kernelspec": {
   "display_name": "Python 3 (ipykernel)",
   "language": "python",
   "name": "python3"
  },
  "language_info": {
   "codemirror_mode": {
    "name": "ipython",
    "version": 3
   },
   "file_extension": ".py",
   "mimetype": "text/x-python",
   "name": "python",
   "nbconvert_exporter": "python",
   "pygments_lexer": "ipython3",
   "version": "3.10.9"
  }
 },
 "nbformat": 4,
 "nbformat_minor": 5
}
