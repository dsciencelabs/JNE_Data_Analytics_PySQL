{
 "cells": [
  {
   "cell_type": "markdown",
   "id": "ae54f928-ec85-41df-84c2-603f14a7884e",
   "metadata": {},
   "source": [
    "Blalalalla mdmmeme"
   ]
  },
  {
   "cell_type": "code",
   "execution_count": null,
   "id": "1b2d2df8-79d9-47b9-8e51-5b4e4a5af442",
   "metadata": {},
   "outputs": [],
   "source": []
  }
 ],
 "metadata": {
  "kernelspec": {
   "display_name": "Python 3 (ipykernel)",
   "language": "python",
   "name": "python3"
  },
  "language_info": {
   "codemirror_mode": {
    "name": "ipython",
    "version": 3
   },
   "file_extension": ".py",
   "mimetype": "text/x-python",
   "name": "python",
   "nbconvert_exporter": "python",
   "pygments_lexer": "ipython3",
   "version": "3.10.9"
  }
 },
 "nbformat": 4,
 "nbformat_minor": 5
}
