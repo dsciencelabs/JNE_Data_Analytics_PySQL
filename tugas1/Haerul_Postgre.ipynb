{
 "cells": [
  {
   "cell_type": "markdown",
   "id": "51b938c1-6d94-4fcc-bad7-dc84ffb17704",
   "metadata": {},
   "source": [
    "# Langkah 1 : Instal Modul Postgre ke Python"
   ]
  },
  {
   "cell_type": "code",
   "execution_count": 1,
   "id": "6d04573f-68da-4fa4-966b-ca94d96efcb0",
   "metadata": {},
   "outputs": [
    {
     "name": "stdout",
     "output_type": "stream",
     "text": [
      "Requirement already satisfied: psycopg2 in c:\\users\\dell\\anaconda3\\lib\\site-packages (2.9.6)\n",
      "Note: you may need to restart the kernel to use updated packages.\n"
     ]
    }
   ],
   "source": [
    "pip install psycopg2"
   ]
  },
  {
   "cell_type": "markdown",
   "id": "4555979e-2407-48bf-8080-4fa8471db6bc",
   "metadata": {},
   "source": [
    "# Langkah 2 : Koneksikan Python ke Postgre"
   ]
  },
  {
   "cell_type": "code",
   "execution_count": 2,
   "id": "090ee05e-70bb-4e85-acf8-2e796d7de37b",
   "metadata": {},
   "outputs": [
    {
     "name": "stdout",
     "output_type": "stream",
     "text": [
      "Berhasil terkoneksi\n"
     ]
    }
   ],
   "source": [
    "import psycopg2\n",
    "\n",
    "try:\n",
    "    db5 = psycopg2.connect('''user='postgres'\n",
    "                               password='1234'\n",
    "                               dbname='jne'\n",
    "                               host='localhost'\n",
    "                               port=5432''')\n",
    "    print (\"Berhasil terkoneksi\")\n",
    "except:\n",
    "    print (\"Tidak dapat terkoneksi dengan database\")"
   ]
  },
  {
   "cell_type": "markdown",
   "id": "b2af0831-3658-4b34-8668-4c2bab2372d5",
   "metadata": {},
   "source": [
    "# Langkah 3 : Membuat Tabel ke Database JNE"
   ]
  },
  {
   "cell_type": "code",
   "execution_count": 9,
   "id": "dda8b6b6-75eb-4e7b-a303-773d19bb667f",
   "metadata": {},
   "outputs": [
    {
     "name": "stdout",
     "output_type": "stream",
     "text": [
      "Berhasil terkoneksi\n",
      "Berhasil Membuat Tabel karyawan\n"
     ]
    }
   ],
   "source": [
    "import psycopg2\n",
    "db5 = psycopg2.connect('''user='postgres'\n",
    "                               password='1234'\n",
    "                               dbname='jne'\n",
    "                               host='localhost'\n",
    "                               port=5432''')\n",
    "print (\"Berhasil terkoneksi\")\n",
    "cur = db5.cursor()\n",
    "cur.execute('''\n",
    "    CREATE TABLE karyawan (\n",
    "    karyawan_id INT PRIMARY KEY NOT NULL,\n",
    "    nama TEXT NOT NULL,\n",
    "    email TEXT NOT NULL )''')\n",
    "db5.commit()\n",
    "print (\"Berhasil Membuat Tabel karyawan\")"
   ]
  },
  {
   "cell_type": "markdown",
   "id": "43734f75-b850-435d-88b0-a912e7ba1dd7",
   "metadata": {},
   "source": [
    "# Langkah 4 : Input Data ke Tabel Karyawan"
   ]
  },
  {
   "cell_type": "code",
   "execution_count": 32,
   "id": "9f1a225f-5998-48e1-bdb3-b1bd49d99b2f",
   "metadata": {},
   "outputs": [
    {
     "name": "stdout",
     "output_type": "stream",
     "text": [
      "Berhasil terkoneksi\n",
      "Berhasil Menambahkan Data\n"
     ]
    }
   ],
   "source": [
    "import psycopg2\n",
    "db5 = psycopg2.connect('''user='postgres'\n",
    "                               password='1234'\n",
    "                               dbname='jne'\n",
    "                               host='localhost'\n",
    "                               port=5432''')\n",
    "print (\"Berhasil terkoneksi\")\n",
    "cur = db5.cursor()\n",
    "nambah_data = \"INSERT INTO karyawan (karyawan_id, nama, email) VALUES (1, 'Bakti Siregar', 'dsciencelabs@outlook.com')\"\n",
    "cur.execute(nambah_data)\n",
    "db5.commit()\n",
    "db5.close()\n",
    "print (\"Berhasil Menambahkan Data\")"
   ]
  },
  {
   "cell_type": "code",
   "execution_count": 39,
   "id": "abdd2d8f-853f-4990-aff0-b01bbeb439cf",
   "metadata": {},
   "outputs": [
    {
     "name": "stdout",
     "output_type": "stream",
     "text": [
      "Berhasil terkoneksi\n",
      "Berhasil Menambahkan Data\n"
     ]
    }
   ],
   "source": [
    "import psycopg2\n",
    "db5 = psycopg2.connect('''user='postgres'\n",
    "                               password='1234'\n",
    "                               dbname='jne'\n",
    "                               host='localhost'\n",
    "                               port=5432''')\n",
    "print (\"Berhasil terkoneksi\")\n",
    "cur = db5.cursor()\n",
    "nambah_data = \"INSERT INTO karyawan (karyawan_id, nama, email) VALUES (2, 'Clara', 'Clara@gmail.com')\"\n",
    "cur.execute(nambah_data)\n",
    "db5.commit()\n",
    "db5.close()\n",
    "print (\"Berhasil Menambahkan Data\")   "
   ]
  },
  {
   "cell_type": "markdown",
   "id": "63fb9826-0dfe-4c87-af65-f4225349e168",
   "metadata": {},
   "source": [
    "# Langkah 5 : Input Data Lebih Dari Satu Data"
   ]
  },
  {
   "cell_type": "code",
   "execution_count": 40,
   "id": "7619b61b-7f03-457e-bb57-85477faa0baf",
   "metadata": {},
   "outputs": [
    {
     "name": "stdout",
     "output_type": "stream",
     "text": [
      "Berhasil terkoneksi\n",
      "Berhasil Menambahkan Data\n"
     ]
    }
   ],
   "source": [
    "import psycopg2\n",
    "db5 = psycopg2.connect('''user='postgres'\n",
    "                               password='1234'\n",
    "                               dbname='jne'\n",
    "                               host='localhost'\n",
    "                               port=5432''')\n",
    "print (\"Berhasil terkoneksi\")\n",
    "cur = db5.cursor()\n",
    "nambah_data = \"INSERT INTO karyawan (karyawan_id, nama, email) VALUES (3, 'Yosia', 'Yosia@gmail.com'), (4, 'Fani', 'Fani@gmail.com')\"\n",
    "cur.execute(nambah_data)\n",
    "db5.commit()\n",
    "db5.close()\n",
    "print (\"Berhasil Menambahkan Data\") "
   ]
  },
  {
   "cell_type": "markdown",
   "id": "485c8e73-2d51-4a25-bb58-e1e723efc836",
   "metadata": {},
   "source": [
    "# Langkah 6 : Menampilkan Data Karyawan"
   ]
  },
  {
   "cell_type": "code",
   "execution_count": 43,
   "id": "0ecacf51-6287-4fe9-80b8-de6d45b34756",
   "metadata": {},
   "outputs": [
    {
     "name": "stdout",
     "output_type": "stream",
     "text": [
      "Berhasil terkoneksi\n",
      "(1, 'Bakti Siregar', 'dsciencelabs@outlook.com')\n",
      "(2, 'Clara', 'Clara@gmail.com')\n",
      "(3, 'Yosia', 'Yosia@gmail.com')\n",
      "(4, 'Fani', 'Fani@gmail.com')\n"
     ]
    }
   ],
   "source": [
    "import psycopg2\n",
    "db5 = psycopg2.connect('''user='postgres'\n",
    "                               password='1234'\n",
    "                               dbname='jne'\n",
    "                               host='localhost'\n",
    "                               port=5432''')\n",
    "print (\"Berhasil terkoneksi\")\n",
    "cur = db5.cursor()\n",
    "tampil_data = \"SELECT * FROM karyawan\"\n",
    "cur.execute(tampil_data)\n",
    "\n",
    "results = cur.fetchall()\n",
    "\n",
    "for data in results:\n",
    "  print(data)"
   ]
  },
  {
   "cell_type": "markdown",
   "id": "00079c35-1f66-40ad-a66c-6b37985d09b8",
   "metadata": {},
   "source": [
    "# Langkah 7 : Edit Data Dari Tabel Karyawan"
   ]
  },
  {
   "cell_type": "code",
   "execution_count": 46,
   "id": "2afbff3c-c230-41a6-bb4d-4fd6f2e2c396",
   "metadata": {},
   "outputs": [
    {
     "name": "stdout",
     "output_type": "stream",
     "text": [
      "1 data diubah\n"
     ]
    }
   ],
   "source": [
    "cur = db5.cursor()\n",
    "update_data = \"UPDATE karyawan SET nama=%s, email=%s WHERE karyawan_id=%s\"\n",
    "val = (\"Fani\", \"Fani03@gmail.com\", 4)\n",
    "cur.execute(update_data, val)\n",
    "\n",
    "db5.commit()\n",
    "\n",
    "print(\"{} data diubah\".format(cur.rowcount))"
   ]
  },
  {
   "cell_type": "markdown",
   "id": "051db750-bcae-4161-b227-f67cff124e9c",
   "metadata": {},
   "source": [
    "# Langkah 8 : Delete Data Dari Tabel Karyawan"
   ]
  },
  {
   "cell_type": "code",
   "execution_count": 47,
   "id": "6df6a80d-9e3f-43b2-8ac3-05ee696a5e47",
   "metadata": {},
   "outputs": [
    {
     "name": "stdout",
     "output_type": "stream",
     "text": [
      "1 data dihapus\n"
     ]
    }
   ],
   "source": [
    "cur = db5.cursor()\n",
    "delete_data = \"DELETE FROM karyawan WHERE karyawan_id=%s\"\n",
    "val = (4, )\n",
    "cur.execute(delete_data, val)\n",
    "\n",
    "db5.commit()\n",
    "\n",
    "print(\"{} data dihapus\".format(cur.rowcount))"
   ]
  },
  {
   "cell_type": "code",
   "execution_count": null,
   "id": "72f5c984-f565-4f8c-8a81-b16d6ef7f3b2",
   "metadata": {},
   "outputs": [],
   "source": []
  }
 ],
 "metadata": {
  "kernelspec": {
   "display_name": "Python 3 (ipykernel)",
   "language": "python",
   "name": "python3"
  },
  "language_info": {
   "codemirror_mode": {
    "name": "ipython",
    "version": 3
   },
   "file_extension": ".py",
   "mimetype": "text/x-python",
   "name": "python",
   "nbconvert_exporter": "python",
   "pygments_lexer": "ipython3",
   "version": "3.9.12"
  }
 },
 "nbformat": 4,
 "nbformat_minor": 5
}
