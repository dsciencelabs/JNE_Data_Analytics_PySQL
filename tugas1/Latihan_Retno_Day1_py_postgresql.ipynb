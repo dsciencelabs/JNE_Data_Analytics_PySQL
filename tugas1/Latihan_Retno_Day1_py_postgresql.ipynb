{
 "cells": [
  {
   "cell_type": "markdown",
   "metadata": {},
   "source": [
    "Seperti telah kita pelajari, untuk meng-akses database ada beberapa perangkat lunak yang dapat digunakan. Secara khusus pada pelatihan **(\"Data Analytics with Python+SQL\")** ini kita akan fokus untuk menggunakan dua diantaranya; MySQL dan PostgreeSQL.\n",
    "<hr> \n",
    "\n",
    "# Akses PostgreSQL dengan Python\n",
    "\n",
    "Berikut ini akan diperlihatkan langkah-langkah untuk mengakses MySQL dengan Python:\n",
    "\n",
    "## Instalasi Modul MySQL Connector\n",
    "\n",
    "Untuk dapat menghubunkan Python dengan PostgreSQL, diperlukan mudul (Packages) yang berisi fungsi-fungsi  dan perintah yang dapat dipergunakan dalam mengakses PostgreSQL."
   ]
  },
  {
   "cell_type": "code",
   "execution_count": 1,
   "metadata": {},
   "outputs": [
    {
     "name": "stdout",
     "output_type": "stream",
     "text": [
      "Requirement already satisfied: psycopg2 in c:\\users\\user\\anaconda3\\lib\\site-packages (2.9.6)\n",
      "Note: you may need to restart the kernel to use updated packages.\n"
     ]
    }
   ],
   "source": [
    "pip install psycopg2"
   ]
  },
  {
   "cell_type": "markdown",
   "metadata": {},
   "source": [
    "## Koneksikan Python ke PostgreSQL\n",
    "\n",
    "Untuk menghubungkan Python dengan PostgreSQL, tidak perlu mengatifkan aplikasinya terlebih dahulu. Yang terpenting adalah apps nya sudah terinstal, kemudian jalankan koding berikut:"
   ]
  },
  {
   "cell_type": "code",
   "execution_count": 16,
   "metadata": {},
   "outputs": [
    {
     "name": "stdout",
     "output_type": "stream",
     "text": [
      "Berhasil terkoneksi\n"
     ]
    }
   ],
   "source": [
    "import psycopg2\n",
    "\n",
    "try:\n",
    "    db5 = psycopg2.connect('''user='postgres'\n",
    "                               password='123'\n",
    "                               dbname='jne'\n",
    "                               host='localhost'\n",
    "                               port=5432''')\n",
    "    print (\"Berhasil terkoneksi\")\n",
    "except:\n",
    "    print (\"Tidak dapat terkoneksi dengan database\")"
   ]
  },
  {
   "cell_type": "markdown",
   "metadata": {},
   "source": [
    "# Lanjutkan Tutorial sebelumnya"
   ]
  },
  {
   "cell_type": "code",
   "execution_count": null,
   "metadata": {},
   "outputs": [],
   "source": []
  }
 ],
 "metadata": {
  "kernelspec": {
   "display_name": "Python 3 (ipykernel)",
   "language": "python",
   "name": "python3"
  },
  "language_info": {
   "codemirror_mode": {
    "name": "ipython",
    "version": 3
   },
   "file_extension": ".py",
   "mimetype": "text/x-python",
   "name": "python",
   "nbconvert_exporter": "python",
   "pygments_lexer": "ipython3",
   "version": "3.10.9"
  }
 },
 "nbformat": 4,
 "nbformat_minor": 4
}
