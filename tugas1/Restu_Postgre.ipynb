{
 "cells": [
  {
   "cell_type": "markdown",
   "metadata": {},
   "source": [
    "Seperti telah kita pelajari, untuk meng-akses database ada beberapa perangkat lunak yang dapat digunakan. Secara khusus pada pelatihan **(\"Data Analytics with Python+SQL\")** ini kita akan fokus untuk menggunakan dua diantaranya; MySQL dan PostgreeSQL.\n",
    "<hr> \n",
    "\n",
    "# Akses PostgreSQL dengan Python\n",
    "\n",
    "Berikut ini akan diperlihatkan langkah-langkah untuk mengakses MySQL dengan Python:\n",
    "\n",
    "## Instalasi Modul MySQL Connector\n",
    "\n",
    "Untuk dapat menghubunkan Python dengan PostgreSQL, diperlukan mudul (Packages) yang berisi fungsi-fungsi  dan perintah yang dapat dipergunakan dalam mengakses PostgreSQL."
   ]
  },
  {
   "cell_type": "code",
   "execution_count": 1,
   "metadata": {},
   "outputs": [
    {
     "name": "stdout",
     "output_type": "stream",
     "text": [
      "Requirement already satisfied: psycopg2 in c:\\users\\restu\\anaconda3\\lib\\site-packages (2.9.6)\n",
      "Note: you may need to restart the kernel to use updated packages.\n"
     ]
    }
   ],
   "source": [
    "pip install psycopg2"
   ]
  },
  {
   "cell_type": "code",
   "execution_count": 2,
   "metadata": {},
   "outputs": [
    {
     "name": "stdout",
     "output_type": "stream",
     "text": [
      "Requirement already satisfied: psycopg2-binary in c:\\users\\restu\\anaconda3\\lib\\site-packages (2.9.6)\n",
      "Note: you may need to restart the kernel to use updated packages.\n"
     ]
    }
   ],
   "source": [
    "pip install psycopg2-binary"
   ]
  },
  {
   "cell_type": "markdown",
   "metadata": {},
   "source": [
    "## Koneksikan Python ke PostgreSQL\n",
    "\n",
    "Untuk menghubungkan Python dengan PostgreSQL, tidak perlu mengatifkan aplikasinya terlebih dahulu. Yang terpenting adalah apps nya sudah terinstal, kemudian jalankan koding berikut:"
   ]
  },
  {
   "cell_type": "code",
   "execution_count": 4,
   "metadata": {},
   "outputs": [
    {
     "name": "stdout",
     "output_type": "stream",
     "text": [
      "Berhasil terkoneksi\n"
     ]
    }
   ],
   "source": [
    "import psycopg2\n",
    "\n",
    "try:\n",
    "    db5 = psycopg2.connect('''user='postgres'\n",
    "                               password='27november'\n",
    "                               dbname='jne'\n",
    "                               host='localhost'\n",
    "                               port=5432''')\n",
    "    print (\"Berhasil terkoneksi\")\n",
    "except:\n",
    "    print (\"Tidak dapat terkoneksi dengan database\")"
   ]
  },
  {
   "cell_type": "markdown",
   "metadata": {},
   "source": [
    "# Lanjutkan Tutorial sebelumnya"
   ]
  },
  {
   "cell_type": "markdown",
   "metadata": {},
   "source": [
    "## Membuat Table"
   ]
  },
  {
   "cell_type": "code",
   "execution_count": 8,
   "metadata": {},
   "outputs": [
    {
     "name": "stdout",
     "output_type": "stream",
     "text": [
      "berhasil terkoneksi\n"
     ]
    }
   ],
   "source": [
    "import psycopg2\n",
    "db5 = psycopg2.connect('''user='postgres'\n",
    "                        password='27november'\n",
    "                        dbname='jne'\n",
    "                        host='localhost'\n",
    "                        port=5432''')\n",
    "\n",
    "print (\"berhasil terkoneksi\")"
   ]
  },
  {
   "cell_type": "code",
   "execution_count": 14,
   "metadata": {},
   "outputs": [
    {
     "name": "stdout",
     "output_type": "stream",
     "text": [
      "Tabel berhasil di buat\n"
     ]
    }
   ],
   "source": [
    "import psycopg2\n",
    "db5 = psycopg2.connect('''user='postgres'\n",
    "                        password='27november'\n",
    "                        dbname='jne'\n",
    "                        host='localhost'\n",
    "                        port=5432''')\n",
    "cursor = db5.cursor()\n",
    "sql = '''CREATE TABLE karyawan (\n",
    "            karyawan_id INT PRIMARY KEY NOT NULL,\n",
    "            nama TEXT NOT NULL,\n",
    "            email TEXT NOT NULL)'''\n",
    "\n",
    "cursor.execute(sql)\n",
    "db5.commit()\n",
    "print (\"Tabel berhasil di buat\")"
   ]
  },
  {
   "cell_type": "markdown",
   "metadata": {},
   "source": [
    "## Insert 1 Data"
   ]
  },
  {
   "cell_type": "code",
   "execution_count": 35,
   "metadata": {},
   "outputs": [
    {
     "name": "stdout",
     "output_type": "stream",
     "text": [
      "1 data ditambahkan\n"
     ]
    }
   ],
   "source": [
    "import psycopg2\n",
    "db5 = psycopg2.connect('''user='postgres'\n",
    "                        password='27november'\n",
    "                        dbname='jne'\n",
    "                        host='localhost'\n",
    "                        port=5432''')\n",
    "\n",
    "cursor = db5.cursor()\n",
    "sql = \"\"\"INSERT INTO karyawan (karyawan_id, nama, email) VALUES  (1, 'Bakti', 'bakti@gmail.com')\"\"\"\n",
    "cursor.execute(sql)\n",
    "db5.commit()\n",
    "\n",
    "print('{} data ditambahkan'.format(cursor.rowcount))"
   ]
  },
  {
   "cell_type": "markdown",
   "metadata": {},
   "source": [
    "## Insert Beberapa Data"
   ]
  },
  {
   "cell_type": "code",
   "execution_count": 40,
   "metadata": {},
   "outputs": [
    {
     "name": "stdout",
     "output_type": "stream",
     "text": [
      "data berhasil ditambahkan\n"
     ]
    }
   ],
   "source": [
    "import psycopg2\n",
    "db5 = psycopg2.connect('''user='postgres'\n",
    "                        password='27november'\n",
    "                        dbname='jne'\n",
    "                        host='localhost'\n",
    "                        port=5432''')\n",
    "\n",
    "cursor = db5.cursor()\n",
    "sql = \"\"\"INSERT INTO karyawan (karyawan_id, nama, email) VALUES (2, 'Yosia', 'yosia@gmail.com'), (3, 'Fani', 'fani@yahoo.com'), (4, 'Leo', 'Leo@yahoo.com'), (5, 'Lexa','Lexa@gmail.com')\"\"\"\n",
    "cursor.execute(sql)\n",
    "db5.commit()\n",
    "print(\"data berhasil ditambahkan\")"
   ]
  },
  {
   "cell_type": "markdown",
   "metadata": {},
   "source": [
    "## Menampilkan Data"
   ]
  },
  {
   "cell_type": "markdown",
   "metadata": {},
   "source": [
    "Menampilkan 1 Data pertama"
   ]
  },
  {
   "cell_type": "code",
   "execution_count": 45,
   "metadata": {},
   "outputs": [
    {
     "name": "stdout",
     "output_type": "stream",
     "text": [
      "1\n",
      "Bakti\n",
      "bakti@gmail.com\n"
     ]
    }
   ],
   "source": [
    "import psycopg2\n",
    "db5 = psycopg2.connect('''user='postgres'\n",
    "                        password='27november'\n",
    "                        dbname='jne'\n",
    "                        host='localhost'\n",
    "                        port=5432''')\n",
    "\n",
    "cursor = db5.cursor()\n",
    "sql = \"SELECT * FROM karyawan\"\n",
    "cursor.execute(sql)\n",
    "\n",
    "results = cursor.fetchone()\n",
    "\n",
    "for data in results:\n",
    "  print(data)"
   ]
  },
  {
   "cell_type": "markdown",
   "metadata": {},
   "source": [
    "Menampilkan semua data"
   ]
  },
  {
   "cell_type": "code",
   "execution_count": 46,
   "metadata": {},
   "outputs": [
    {
     "name": "stdout",
     "output_type": "stream",
     "text": [
      "(1, 'Bakti', 'bakti@gmail.com')\n",
      "(2, 'Yosia', 'yosia@gmail.com')\n",
      "(3, 'Fani', 'fani@yahoo.com')\n",
      "(4, 'Leo', 'Leo@yahoo.com')\n",
      "(5, 'Lexa', 'Lexa@gmail.com')\n"
     ]
    }
   ],
   "source": [
    "cursor = db5.cursor()\n",
    "sql = \"SELECT * FROM karyawan\"\n",
    "cursor.execute(sql)\n",
    "\n",
    "results = cursor.fetchall()\n",
    "\n",
    "for data in results:\n",
    "  print(data)"
   ]
  },
  {
   "cell_type": "markdown",
   "metadata": {},
   "source": [
    "## Update Data"
   ]
  },
  {
   "cell_type": "markdown",
   "metadata": {},
   "source": [
    "Update data email a.n Lexa"
   ]
  },
  {
   "cell_type": "code",
   "execution_count": 47,
   "metadata": {},
   "outputs": [
    {
     "name": "stdout",
     "output_type": "stream",
     "text": [
      "1 data diubah\n"
     ]
    }
   ],
   "source": [
    "import psycopg2\n",
    "db5 = psycopg2.connect('''user='postgres'\n",
    "                        password='27november'\n",
    "                        dbname='jne'\n",
    "                        host='localhost'\n",
    "                        port=5432''')\n",
    "\n",
    "cursor = db5.cursor()\n",
    "sql = \"UPDATE karyawan SET nama=%s, email=%s WHERE karyawan_id=%s\"\n",
    "val = (\"Lexa\", \"Lexander@yahoo.com\", 5)\n",
    "cursor.execute(sql, val)\n",
    "\n",
    "db5.commit()\n",
    "\n",
    "print(\"{} data diubah\".format(cursor.rowcount))"
   ]
  },
  {
   "cell_type": "markdown",
   "metadata": {},
   "source": [
    "## Menghapus Data"
   ]
  },
  {
   "cell_type": "markdown",
   "metadata": {},
   "source": [
    "Menghapus data a.n Leo"
   ]
  },
  {
   "cell_type": "code",
   "execution_count": 48,
   "metadata": {},
   "outputs": [
    {
     "name": "stdout",
     "output_type": "stream",
     "text": [
      "1 data dihapus\n"
     ]
    }
   ],
   "source": [
    "cursor = db5.cursor()\n",
    "sql = \"DELETE FROM karyawan WHERE karyawan_id=%s\"\n",
    "val = (4, )\n",
    "cursor.execute(sql, val)\n",
    "\n",
    "db5.commit()\n",
    "\n",
    "print(\"{} data dihapus\".format(cursor.rowcount))"
   ]
  },
  {
   "cell_type": "code",
   "execution_count": null,
   "metadata": {},
   "outputs": [],
   "source": []
  }
 ],
 "metadata": {
  "kernelspec": {
   "display_name": "Python 3 (ipykernel)",
   "language": "python",
   "name": "python3"
  },
  "language_info": {
   "codemirror_mode": {
    "name": "ipython",
    "version": 3
   },
   "file_extension": ".py",
   "mimetype": "text/x-python",
   "name": "python",
   "nbconvert_exporter": "python",
   "pygments_lexer": "ipython3",
   "version": "3.10.9"
  }
 },
 "nbformat": 4,
 "nbformat_minor": 4
}
