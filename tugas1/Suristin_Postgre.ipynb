{
 "cells": [
  {
   "cell_type": "code",
   "execution_count": 13,
   "id": "2e051415-c308-4601-8d25-008d19cd7bc6",
   "metadata": {},
   "outputs": [
    {
     "name": "stdout",
     "output_type": "stream",
     "text": [
      "sukses\n"
     ]
    }
   ],
   "source": [
    "import psycopg2\n",
    "\n",
    "try:\n",
    "    db5 = psycopg2.connect('''user='postgres'\n",
    "                            password='031412'\n",
    "                            dbname='test'\n",
    "                            host='localhost'\n",
    "                            port=5432''')\n",
    "\n",
    "    print(\"sukses\")\n",
    "except:\n",
    "    print(\"gagal\")"
   ]
  },
  {
   "cell_type": "markdown",
   "id": "1697de3a-9b07-43d6-afd9-db57aad27a67",
   "metadata": {},
   "source": [
    "### Membuat Table\n"
   ]
  },
  {
   "cell_type": "code",
   "execution_count": 3,
   "id": "94b535df-6923-4189-91e7-640b786a546e",
   "metadata": {},
   "outputs": [
    {
     "name": "stdout",
     "output_type": "stream",
     "text": [
      "berhasil terkoneksi\n"
     ]
    }
   ],
   "source": [
    "import psycopg2\n",
    "db5 = psycopg2.connect('''user='postgres'\n",
    "                        password='031412'\n",
    "                        dbname='jne'\n",
    "                        host='localhost'\n",
    "                        port=5432''')\n",
    "\n",
    "print (\"berhasil terkoneksi\")"
   ]
  },
  {
   "cell_type": "code",
   "execution_count": 5,
   "id": "de2ec592-38f0-40d9-8007-0d66c9794185",
   "metadata": {},
   "outputs": [
    {
     "name": "stdout",
     "output_type": "stream",
     "text": [
      "Tabel berhasil di buat\n"
     ]
    }
   ],
   "source": [
    "import psycopg2\n",
    "db5 = psycopg2.connect('''user='postgres'\n",
    "                        password='031412'\n",
    "                        dbname='jne'\n",
    "                        host='localhost'\n",
    "                        port=5432''')\n",
    "cursor = db5.cursor()\n",
    "sql = '''CREATE TABLE testing (\n",
    "            karyawan_id INT PRIMARY KEY NOT NULL,\n",
    "            nama TEXT NOT NULL,\n",
    "            email TEXT NOT NULL)'''\n",
    "\n",
    "cursor.execute(sql)\n",
    "db5.commit()\n",
    "print (\"Tabel berhasil di buat\")"
   ]
  },
  {
   "cell_type": "markdown",
   "id": "02d883ea-6405-46ad-958b-0e876070b870",
   "metadata": {},
   "source": [
    "### Insert Data"
   ]
  },
  {
   "cell_type": "code",
   "execution_count": 6,
   "id": "22a3b604-b059-4c04-98d1-fa5b1b4efe65",
   "metadata": {},
   "outputs": [
    {
     "name": "stdout",
     "output_type": "stream",
     "text": [
      "1 data ditambahkan\n"
     ]
    }
   ],
   "source": [
    "import psycopg2\n",
    "db5 = psycopg2.connect('''user='postgres'\n",
    "                        password='031412'\n",
    "                        dbname='jne'\n",
    "                        host='localhost'\n",
    "                        port=5432''')\n",
    "\n",
    "cursor = db5.cursor()\n",
    "sql = \"\"\"INSERT INTO testing (karyawan_id, nama, email) VALUES  (1, 'Bakti', 'bakti@gmail.com')\"\"\"\n",
    "cursor.execute(sql)\n",
    "db5.commit()\n",
    "\n",
    "print('{} data ditambahkan'.format(cursor.rowcount))"
   ]
  },
  {
   "cell_type": "markdown",
   "id": "a581fab8-7d5f-411e-b6e9-3660e6e5a4d9",
   "metadata": {},
   "source": [
    "### Insert Beberapa Data"
   ]
  },
  {
   "cell_type": "code",
   "execution_count": 7,
   "id": "cb54c803-0108-4dda-bcb9-f8ed51135c6b",
   "metadata": {},
   "outputs": [
    {
     "name": "stdout",
     "output_type": "stream",
     "text": [
      "data berhasil ditambahkan\n"
     ]
    }
   ],
   "source": [
    "import psycopg2\n",
    "db5 = psycopg2.connect('''user='postgres'\n",
    "                        password='031412'\n",
    "                        dbname='jne'\n",
    "                        host='localhost'\n",
    "                        port=5432''')\n",
    "\n",
    "cursor = db5.cursor()\n",
    "sql = \"\"\"INSERT INTO testing (karyawan_id, nama, email) VALUES (2, 'Yosia', 'yosia@gmail.com'), (3, 'Fani', 'fani@yahoo.com'), (4, 'Leo', 'Leo@yahoo.com'), (5, 'Lexa','Lexa@gmail.com')\"\"\"\n",
    "cursor.execute(sql)\n",
    "db5.commit()\n",
    "print(\"data berhasil ditambahkan\")"
   ]
  },
  {
   "cell_type": "markdown",
   "id": "4d0a1bbf-a2ef-4583-9d85-9345f04cb882",
   "metadata": {},
   "source": [
    "### Menampilkan Data"
   ]
  },
  {
   "cell_type": "code",
   "execution_count": 8,
   "id": "06c76210-4935-48e9-b707-e228957f38fa",
   "metadata": {},
   "outputs": [
    {
     "name": "stdout",
     "output_type": "stream",
     "text": [
      "1\n",
      "Bakti\n",
      "bakti@gmail.com\n"
     ]
    }
   ],
   "source": [
    "import psycopg2\n",
    "db5 = psycopg2.connect('''user='postgres'\n",
    "                        password='031412'\n",
    "                        dbname='jne'\n",
    "                        host='localhost'\n",
    "                        port=5432''')\n",
    "\n",
    "cursor = db5.cursor()\n",
    "sql = \"SELECT * FROM testing\"\n",
    "cursor.execute(sql)\n",
    "\n",
    "results = cursor.fetchone()\n",
    "\n",
    "for data in results:\n",
    "  print(data)"
   ]
  },
  {
   "cell_type": "code",
   "execution_count": 9,
   "id": "e08e9be2-2388-43d9-9785-046e538216dc",
   "metadata": {},
   "outputs": [
    {
     "name": "stdout",
     "output_type": "stream",
     "text": [
      "(1, 'Bakti', 'bakti@gmail.com')\n",
      "(2, 'Yosia', 'yosia@gmail.com')\n",
      "(3, 'Fani', 'fani@yahoo.com')\n",
      "(4, 'Leo', 'Leo@yahoo.com')\n",
      "(5, 'Lexa', 'Lexa@gmail.com')\n"
     ]
    }
   ],
   "source": [
    "cursor = db5.cursor()\n",
    "sql = \"SELECT * FROM testing\"\n",
    "cursor.execute(sql)\n",
    "\n",
    "results = cursor.fetchall()\n",
    "\n",
    "for data in results:\n",
    "  print(data)"
   ]
  },
  {
   "cell_type": "markdown",
   "id": "3a671854-39d2-4472-99ce-51e681f68b0c",
   "metadata": {},
   "source": [
    "### Update Data"
   ]
  },
  {
   "cell_type": "code",
   "execution_count": 10,
   "id": "e42c51a5-c0e2-41fa-9591-4deb9514ac3a",
   "metadata": {},
   "outputs": [
    {
     "name": "stdout",
     "output_type": "stream",
     "text": [
      "1 data diubah\n"
     ]
    }
   ],
   "source": [
    "import psycopg2\n",
    "db5 = psycopg2.connect('''user='postgres'\n",
    "                        password='031412'\n",
    "                        dbname='jne'\n",
    "                        host='localhost'\n",
    "                        port=5432''')\n",
    "\n",
    "cursor = db5.cursor()\n",
    "sql = \"UPDATE testing SET nama=%s, email=%s WHERE karyawan_id=%s\"\n",
    "val = (\"Lexa\", \"Lexander@yahoo.com\", 5)\n",
    "cursor.execute(sql, val)\n",
    "\n",
    "db5.commit()\n",
    "\n",
    "print(\"{} data diubah\".format(cursor.rowcount))"
   ]
  },
  {
   "cell_type": "markdown",
   "id": "f9d8a6e0-b81b-415b-96c8-01108d9668f7",
   "metadata": {},
   "source": [
    "### Menghapus Data"
   ]
  },
  {
   "cell_type": "code",
   "execution_count": 11,
   "id": "31ed989e-5658-4c35-a6d1-a9c7eb87e0cb",
   "metadata": {},
   "outputs": [
    {
     "name": "stdout",
     "output_type": "stream",
     "text": [
      "1 data dihapus\n"
     ]
    }
   ],
   "source": [
    "cursor = db5.cursor()\n",
    "sql = \"DELETE FROM testing WHERE karyawan_id=%s\"\n",
    "val = (4, )\n",
    "cursor.execute(sql, val)\n",
    "\n",
    "db5.commit()\n",
    "\n",
    "print(\"{} data dihapus\".format(cursor.rowcount))"
   ]
  },
  {
   "cell_type": "code",
   "execution_count": null,
   "id": "da8573e9-41bc-4fb1-a9ad-4b4a56b804c8",
   "metadata": {},
   "outputs": [],
   "source": []
  }
 ],
 "metadata": {
  "kernelspec": {
   "display_name": "Python 3 (ipykernel)",
   "language": "python",
   "name": "python3"
  },
  "language_info": {
   "codemirror_mode": {
    "name": "ipython",
    "version": 3
   },
   "file_extension": ".py",
   "mimetype": "text/x-python",
   "name": "python",
   "nbconvert_exporter": "python",
   "pygments_lexer": "ipython3",
   "version": "3.9.12"
  }
 },
 "nbformat": 4,
 "nbformat_minor": 5
}
