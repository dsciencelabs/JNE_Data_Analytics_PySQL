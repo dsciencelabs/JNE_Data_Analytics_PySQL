{
 "cells": [
  {
   "cell_type": "markdown",
   "metadata": {},
   "source": [
    "Seperti telah kita pelajari, untuk meng-akses database ada beberapa perangkat lunak yang dapat digunakan. Secara khusus pada pelatihan **(\"Data Analytics with Python+SQL\")** ini kita akan fokus untuk menggunakan dua diantaranya; MySQL dan PostgreeSQL.\n",
    "<hr> \n",
    "\n",
    "# Akses PostgreSQL dengan Python\n",
    "\n",
    "Berikut ini akan diperlihatkan langkah-langkah untuk mengakses MySQL dengan Python:\n",
    "\n",
    "## Instalasi Modul MySQL Connector\n",
    "\n",
    "Untuk dapat menghubunkan Python dengan PostgreSQL, diperlukan mudul (Packages) yang berisi fungsi-fungsi  dan perintah yang dapat dipergunakan dalam mengakses PostgreSQL."
   ]
  },
  {
   "cell_type": "code",
   "execution_count": 1,
   "metadata": {},
   "outputs": [
    {
     "name": "stdout",
     "output_type": "stream",
     "text": [
      "Collecting psycopg2\n",
      "  Downloading psycopg2-2.9.6-cp39-cp39-win_amd64.whl (1.2 MB)\n",
      "     ---------------------------------------- 0.0/1.2 MB ? eta -:--:--\n",
      "     ---------------------------------------- 0.0/1.2 MB ? eta -:--:--\n",
      "     ---------------------------------------- 0.0/1.2 MB ? eta -:--:--\n",
      "     ---------------------------------------- 0.0/1.2 MB ? eta -:--:--\n",
      "     --- ------------------------------------ 0.1/1.2 MB 476.3 kB/s eta 0:00:03\n",
      "     --- ------------------------------------ 0.1/1.2 MB 504.4 kB/s eta 0:00:03\n",
      "     ----- ---------------------------------- 0.2/1.2 MB 541.0 kB/s eta 0:00:02\n",
      "     ------ --------------------------------- 0.2/1.2 MB 620.6 kB/s eta 0:00:02\n",
      "     ------ --------------------------------- 0.2/1.2 MB 567.2 kB/s eta 0:00:02\n",
      "     --------- ------------------------------ 0.3/1.2 MB 655.8 kB/s eta 0:00:02\n",
      "     ---------- ----------------------------- 0.3/1.2 MB 678.1 kB/s eta 0:00:02\n",
      "     ------------- -------------------------- 0.4/1.2 MB 757.8 kB/s eta 0:00:02\n",
      "     -------------- ------------------------- 0.4/1.2 MB 795.3 kB/s eta 0:00:01\n",
      "     -------------- ------------------------- 0.4/1.2 MB 795.3 kB/s eta 0:00:01\n",
      "     -------------- ------------------------- 0.4/1.2 MB 795.3 kB/s eta 0:00:01\n",
      "     -------------- ------------------------- 0.4/1.2 MB 795.3 kB/s eta 0:00:01\n",
      "     ----------------- ---------------------- 0.5/1.2 MB 697.5 kB/s eta 0:00:01\n",
      "     ------------------ --------------------- 0.6/1.2 MB 681.0 kB/s eta 0:00:01\n",
      "     -------------------- ------------------- 0.6/1.2 MB 704.5 kB/s eta 0:00:01\n",
      "     --------------------- ------------------ 0.6/1.2 MB 713.9 kB/s eta 0:00:01\n",
      "     ----------------------- ---------------- 0.7/1.2 MB 721.3 kB/s eta 0:00:01\n",
      "     ------------------------ --------------- 0.7/1.2 MB 707.6 kB/s eta 0:00:01\n",
      "     ------------------------ --------------- 0.7/1.2 MB 696.1 kB/s eta 0:00:01\n",
      "     ------------------------- -------------- 0.7/1.2 MB 684.6 kB/s eta 0:00:01\n",
      "     -------------------------- ------------- 0.8/1.2 MB 701.7 kB/s eta 0:00:01\n",
      "     --------------------------- ------------ 0.8/1.2 MB 691.6 kB/s eta 0:00:01\n",
      "     ----------------------------- ---------- 0.9/1.2 MB 714.6 kB/s eta 0:00:01\n",
      "     ------------------------------- -------- 0.9/1.2 MB 720.9 kB/s eta 0:00:01\n",
      "     -------------------------------- ------- 0.9/1.2 MB 710.2 kB/s eta 0:00:01\n",
      "     --------------------------------- ------ 1.0/1.2 MB 708.3 kB/s eta 0:00:01\n",
      "     ---------------------------------- ----- 1.0/1.2 MB 722.4 kB/s eta 0:00:01\n",
      "     ---------------------------------- ----- 1.0/1.2 MB 712.9 kB/s eta 0:00:01\n",
      "     ---------------------------------- ----- 1.0/1.2 MB 712.9 kB/s eta 0:00:01\n",
      "     ------------------------------------ --- 1.1/1.2 MB 695.6 kB/s eta 0:00:01\n",
      "     ------------------------------------ --- 1.1/1.2 MB 688.3 kB/s eta 0:00:01\n",
      "     ------------------------------------- -- 1.1/1.2 MB 674.3 kB/s eta 0:00:01\n",
      "     -------------------------------------- - 1.1/1.2 MB 673.7 kB/s eta 0:00:01\n",
      "     ---------------------------------------  1.2/1.2 MB 673.4 kB/s eta 0:00:01\n",
      "     ---------------------------------------  1.2/1.2 MB 673.4 kB/s eta 0:00:01\n",
      "     ---------------------------------------  1.2/1.2 MB 673.4 kB/s eta 0:00:01\n",
      "     ---------------------------------------  1.2/1.2 MB 673.4 kB/s eta 0:00:01\n",
      "     ---------------------------------------- 1.2/1.2 MB 611.0 kB/s eta 0:00:00\n",
      "Installing collected packages: psycopg2\n",
      "Successfully installed psycopg2-2.9.6\n",
      "Note: you may need to restart the kernel to use updated packages.\n"
     ]
    }
   ],
   "source": [
    "pip install psycopg2"
   ]
  },
  {
   "cell_type": "markdown",
   "metadata": {},
   "source": [
    "## Koneksikan Python ke PostgreSQL\n",
    "\n",
    "Untuk menghubungkan Python dengan PostgreSQL, tidak perlu mengatifkan aplikasinya terlebih dahulu. Yang terpenting adalah apps nya sudah terinstal, kemudian jalankan koding berikut:"
   ]
  },
  {
   "cell_type": "code",
   "execution_count": 1,
   "metadata": {},
   "outputs": [
    {
     "name": "stdout",
     "output_type": "stream",
     "text": [
      "Berhasil terkoneksi\n"
     ]
    }
   ],
   "source": [
    "import psycopg2\n",
    "\n",
    "try:\n",
    "    db5 = psycopg2.connect('''user='postgres'\n",
    "                               password='jne123'\n",
    "                               dbname='coba_coba'\n",
    "                               host='localhost'\n",
    "                               port=5432''')\n",
    "    print (\"Berhasil terkoneksi\")\n",
    "except:\n",
    "    print (\"Tidak dapat terkoneksi dengan database\")"
   ]
  },
  {
   "cell_type": "markdown",
   "metadata": {},
   "source": [
    "# Lanjutkan Tutorial sebelumnya"
   ]
  },
  {
   "cell_type": "markdown",
   "metadata": {},
   "source": [
    "### membuat tabel"
   ]
  },
  {
   "cell_type": "code",
   "execution_count": 3,
   "metadata": {},
   "outputs": [
    {
     "name": "stdout",
     "output_type": "stream",
     "text": [
      "Tabel berhasil di buat\n"
     ]
    }
   ],
   "source": [
    "db5 = psycopg2.connect('''user='postgres'\n",
    "                               password='jne123'\n",
    "                               dbname='coba_coba'\n",
    "                               host='localhost'\n",
    "                               port=5432''')\n",
    "cursor = db5.cursor()\n",
    "sql = '''CREATE TABLE karyawan1 (\n",
    "            karyawan_id INT PRIMARY KEY NOT NULL,\n",
    "            nama TEXT NOT NULL,\n",
    "            email TEXT NOT NULL)'''\n",
    "\n",
    "cursor.execute(sql)\n",
    "db5.commit()\n",
    "print (\"Tabel berhasil di buat\")"
   ]
  },
  {
   "cell_type": "markdown",
   "metadata": {},
   "source": [
    "### Insert Data"
   ]
  },
  {
   "cell_type": "code",
   "execution_count": 4,
   "metadata": {},
   "outputs": [
    {
     "name": "stdout",
     "output_type": "stream",
     "text": [
      "1 data ditambahkan\n"
     ]
    }
   ],
   "source": [
    "db5 = psycopg2.connect('''user='postgres'\n",
    "                               password='jne123'\n",
    "                               dbname='coba_coba'\n",
    "                               host='localhost'\n",
    "                               port=5432''')\n",
    "cursor = db5.cursor()\n",
    "sql = \"\"\"INSERT INTO karyawan1 (karyawan_id, nama, email) VALUES  (1, 'Bakti', 'bakti@gmail.com')\"\"\"\n",
    "cursor.execute(sql)\n",
    "db5.commit()\n",
    "\n",
    "print('{} data ditambahkan'.format(cursor.rowcount))"
   ]
  },
  {
   "cell_type": "markdown",
   "metadata": {},
   "source": [
    "### Insert Beberapa Data"
   ]
  },
  {
   "cell_type": "code",
   "execution_count": 5,
   "metadata": {},
   "outputs": [
    {
     "name": "stdout",
     "output_type": "stream",
     "text": [
      "data berhasil ditambahkan\n"
     ]
    }
   ],
   "source": [
    "db5 = psycopg2.connect('''user='postgres'\n",
    "                               password='jne123'\n",
    "                               dbname='coba_coba'\n",
    "                               host='localhost'\n",
    "                               port=5432''')\n",
    "cursor = db5.cursor()\n",
    "sql = \"\"\"INSERT INTO karyawan1 (karyawan_id, nama, email) VALUES (2, 'Yosia', 'yosia@gmail.com'), (3, 'Fani', 'fani@yahoo.com'), (4, 'Leo', 'Leo@yahoo.com'), (5, 'Lexa','Lexa@gmail.com')\"\"\"\n",
    "cursor.execute(sql)\n",
    "db5.commit()\n",
    "print(\"data berhasil ditambahkan\")"
   ]
  },
  {
   "cell_type": "markdown",
   "metadata": {},
   "source": [
    "### Menampilkan Data"
   ]
  },
  {
   "cell_type": "code",
   "execution_count": 6,
   "metadata": {},
   "outputs": [
    {
     "name": "stdout",
     "output_type": "stream",
     "text": [
      "1\n",
      "Bakti\n",
      "bakti@gmail.com\n"
     ]
    }
   ],
   "source": [
    "db5 = psycopg2.connect('''user='postgres'\n",
    "                               password='jne123'\n",
    "                               dbname='coba_coba'\n",
    "                               host='localhost'\n",
    "                               port=5432''')\n",
    "sql = \"SELECT * FROM karyawan1\"\n",
    "cursor.execute(sql)\n",
    "\n",
    "results = cursor.fetchone()\n",
    "\n",
    "for data in results:\n",
    "  print(data)"
   ]
  },
  {
   "cell_type": "markdown",
   "metadata": {},
   "source": [
    "### Menampilkan semua data"
   ]
  },
  {
   "cell_type": "code",
   "execution_count": 7,
   "metadata": {},
   "outputs": [
    {
     "name": "stdout",
     "output_type": "stream",
     "text": [
      "(2, 'Yosia', 'yosia@gmail.com')\n",
      "(3, 'Fani', 'fani@yahoo.com')\n",
      "(4, 'Leo', 'Leo@yahoo.com')\n",
      "(5, 'Lexa', 'Lexa@gmail.com')\n"
     ]
    }
   ],
   "source": [
    "results = cursor.fetchall()\n",
    "\n",
    "for data in results:\n",
    "  print(data)"
   ]
  },
  {
   "cell_type": "markdown",
   "metadata": {},
   "source": [
    "### Update Data\n",
    "#### Update data email"
   ]
  },
  {
   "cell_type": "code",
   "execution_count": 11,
   "metadata": {},
   "outputs": [
    {
     "name": "stdout",
     "output_type": "stream",
     "text": [
      "1 data diubah\n"
     ]
    }
   ],
   "source": [
    "db5 = psycopg2.connect('''user='postgres'\n",
    "                               password='jne123'\n",
    "                               dbname='coba_coba'\n",
    "                               host='localhost'\n",
    "                               port=5432''')\n",
    "cursor = db5.cursor()\n",
    "sql = \"UPDATE karyawan1 SET nama=%s, email=%s WHERE karyawan_id=%s\"\n",
    "val = (\"Lexa\", \"Lexander@yahoo.com\", 5)\n",
    "cursor.execute(sql, val)\n",
    "\n",
    "db5.commit()\n",
    "\n",
    "print(\"{} data diubah\".format(cursor.rowcount))"
   ]
  },
  {
   "cell_type": "markdown",
   "metadata": {},
   "source": [
    "### Menghapus Data"
   ]
  },
  {
   "cell_type": "code",
   "execution_count": 12,
   "metadata": {},
   "outputs": [
    {
     "name": "stdout",
     "output_type": "stream",
     "text": [
      "1 data dihapus\n"
     ]
    }
   ],
   "source": [
    "cursor = db5.cursor()\n",
    "sql = \"DELETE FROM karyawan1 WHERE karyawan_id=%s\"\n",
    "val = (4, )\n",
    "cursor.execute(sql, val)\n",
    "\n",
    "db5.commit()\n",
    "\n",
    "print(\"{} data dihapus\".format(cursor.rowcount))"
   ]
  },
  {
   "cell_type": "code",
   "execution_count": null,
   "metadata": {},
   "outputs": [],
   "source": []
  }
 ],
 "metadata": {
  "kernelspec": {
   "display_name": "Python 3 (ipykernel)",
   "language": "python",
   "name": "python3"
  },
  "language_info": {
   "codemirror_mode": {
    "name": "ipython",
    "version": 3
   },
   "file_extension": ".py",
   "mimetype": "text/x-python",
   "name": "python",
   "nbconvert_exporter": "python",
   "pygments_lexer": "ipython3",
   "version": "3.9.16"
  }
 },
 "nbformat": 4,
 "nbformat_minor": 4
}
