{
 "cells": [
  {
   "cell_type": "markdown",
   "id": "8dd19dac-6370-4400-b10b-cbf63ed9e32d",
   "metadata": {},
   "source": [
    "## Tugas Kelompok A\n",
    "\n",
    "CRUD adalah operasi dasar yang harus dipahami pada pemrograman database. CRUD itu adalah singkatan dari Create, Read, Update, dan Delete. Hal ini, sudah kita pelajari diatas. Berikut ini adalah contoh aplikasi yang dapat kita bangun jika sudah memahami materi sudah dipelajari.\n",
    "\n",
    "**Adapun tugas kelompok A** adalah untuk memperbaiki koding dibawah ini. Sehingga dapat depergunakan sebagai applikasi sederhana untuk mengakses database.\n",
    "\n",
    "**Kisi-kisi:**\n",
    "\n",
    "1. Perhatikan nama database dan koneksinya? Done\n",
    "2. Perhatikan apakah sudah ada tabelnya? Done\n",
    "3. Pastikan nama kolom yang digunakan sudah sesuai? Done"
   ]
  },
  {
   "cell_type": "code",
   "execution_count": 1,
   "id": "651d145b-4743-44b0-bd35-d2377f430dc1",
   "metadata": {},
   "outputs": [
    {
     "name": "stdout",
     "output_type": "stream",
     "text": [
      "Berhasil terhubung ke database\n"
     ]
    }
   ],
   "source": [
    "import mysql.connector\n",
    "\n",
    "db = mysql.connector.connect(\n",
    "  host='localhost',\n",
    "  user='jne',\n",
    "  passwd='123'\n",
    ")\n",
    "\n",
    "if db.is_connected():\n",
    "  print('Berhasil terhubung ke database')"
   ]
  },
  {
   "cell_type": "code",
   "execution_count": 3,
   "id": "4ced9d8a-f494-41b7-8f25-0a983ebb73ea",
   "metadata": {},
   "outputs": [],
   "source": [
    "import os"
   ]
  },
  {
   "cell_type": "code",
   "execution_count": 14,
   "id": "b231fbd5-3641-4f01-896c-522f0ce69ca1",
   "metadata": {},
   "outputs": [],
   "source": [
    "cursor = db.cursor()\n",
    "cursor.execute('CREATE DATABASE kurir1')"
   ]
  },
  {
   "cell_type": "code",
   "execution_count": 4,
   "id": "bd2eace8-36bb-4498-8762-bcf6b558aa84",
   "metadata": {},
   "outputs": [],
   "source": [
    "import mysql.connector\n",
    "\n",
    "db = mysql.connector.connect(\n",
    "  host='localhost',\n",
    "  user='jne',\n",
    "  passwd='123',\n",
    "  database='kurir1'\n",
    ")"
   ]
  },
  {
   "cell_type": "code",
   "execution_count": 17,
   "id": "6d8b0d49-8caf-46a2-818e-595a0fa77e4a",
   "metadata": {},
   "outputs": [],
   "source": [
    "cursor = db.cursor()\n",
    "sql = '''CREATE TABLE customers (\n",
    "           kurir_id INT AUTO_INCREMENT PRIMARY KEY,\n",
    "            nama VARCHAR(255),\n",
    "            alamat Varchar(255))'''\n",
    "\n",
    "cursor.execute(sql)"
   ]
  },
  {
   "cell_type": "code",
   "execution_count": 5,
   "id": "843bccb7-5a78-4bfb-ab67-4022c24f93c1",
   "metadata": {},
   "outputs": [],
   "source": [
    "def insert_data(db):\n",
    "  nama = input(\"Masukan nama: \")\n",
    "  alamat = input(\"Masukan alamat: \")\n",
    "  val = (nama, alamat)\n",
    "  cursor = db.cursor()\n",
    "  sql = \"INSERT INTO customers (nama, alamat) VALUES (%s, %s)\"\n",
    "  cursor.execute(sql, val)\n",
    "  db.commit()\n",
    "  print(\"{} data berhasil disimpan\".format(cursor.rowcount))"
   ]
  },
  {
   "cell_type": "code",
   "execution_count": 6,
   "id": "211a7f3b-9d95-4c7b-8408-99185906fe7a",
   "metadata": {},
   "outputs": [],
   "source": [
    "def show_data(db):\n",
    "  cursor = db.cursor()\n",
    "  sql = \"SELECT * FROM customers\"\n",
    "  cursor.execute(sql)\n",
    "  results = cursor.fetchall()\n",
    "  \n",
    "  if cursor.rowcount < 0:\n",
    "    print(\"Tidak ada data\")\n",
    "  else:\n",
    "    for data in results:\n",
    "      print(data)"
   ]
  },
  {
   "cell_type": "code",
   "execution_count": 7,
   "id": "6b225a97-6152-408a-a915-590e5f84c2ed",
   "metadata": {},
   "outputs": [],
   "source": [
    "def update_data(db):\n",
    "  cursor = db.cursor()\n",
    "  show_data(db)\n",
    "  kurir_id = input(\"pilih id kurir> \")\n",
    "  nama = input(\"Nama baru: \")\n",
    "  alamat = input(\"Alamat baru: \")\n",
    "\n",
    "  sql = \"UPDATE customers SET nama=%s, alamat=%s WHERE kurir_id=%s\"\n",
    "  val = (nama, alamat, kurir_id)\n",
    "  cursor.execute(sql, val)\n",
    "  db.commit()\n",
    "  print(\"{} data berhasil diubah\".format(cursor.rowcount))"
   ]
  },
  {
   "cell_type": "code",
   "execution_count": 8,
   "id": "d3532b6c-6880-4441-a10c-8a8173cf3662",
   "metadata": {},
   "outputs": [],
   "source": [
    "def delete_data(db):\n",
    "  cursor = db.cursor()\n",
    "  show_data(db)\n",
    "  kurir_id = input(\"pilih id kurir> \")\n",
    "  sql = \"DELETE FROM customers WHERE kurir_id=%s\"\n",
    "  val = (kurir_id,)\n",
    "  cursor.execute(sql, val)\n",
    "  db.commit()\n",
    "  print(\"{} data berhasil dihapus\".format(cursor.rowcount))"
   ]
  },
  {
   "cell_type": "code",
   "execution_count": 9,
   "id": "7c7906de-4738-4f10-8841-61fd0ce7deaa",
   "metadata": {},
   "outputs": [],
   "source": [
    "def search_data(db):\n",
    "  cursor = db.cursor()\n",
    "  keyword = input(\"Kata kunci: \")\n",
    "  sql = \"SELECT * FROM customers WHERE nama LIKE %s OR alamat LIKE %s\"\n",
    "  val = (\"%{}%\".format(keyword), \"%{}%\".format(keyword))\n",
    "  cursor.execute(sql, val)\n",
    "  results = cursor.fetchall()\n",
    "  \n",
    "  if cursor.rowcount < 0:\n",
    "    print(\"Tidak ada data\")\n",
    "  else:\n",
    "    for data in results:\n",
    "      print(data)"
   ]
  },
  {
   "cell_type": "code",
   "execution_count": 10,
   "id": "59ec426a-eb58-4dad-8029-79294493f05e",
   "metadata": {},
   "outputs": [],
   "source": [
    "def show_menu(db):\n",
    "  print(\"=== APLIKASI DATABASE PYTHON ===\")\n",
    "  print(\"1. Insert Data\")\n",
    "  print(\"2. Tampilkan Data\")\n",
    "  print(\"3. Update Data\")\n",
    "  print(\"4. Hapus Data\")\n",
    "  print(\"5. Cari Data\")\n",
    "  print(\"0. Keluar\")\n",
    "  print(\"------------------\")\n",
    "  menu = input(\"Pilih menu> \")\n",
    "\n",
    "  #clear screen\n",
    "  os.system(\"cls\") # untuk windows\n",
    "\n",
    "  if menu == \"1\":\n",
    "    insert_data(db)\n",
    "  elif menu == \"2\":\n",
    "    show_data(db)\n",
    "  elif menu == \"3\":\n",
    "    update_data(db)\n",
    "  elif menu == \"4\":\n",
    "    delete_data(db)\n",
    "  elif menu == \"5\":\n",
    "    search_data(db)\n",
    "  elif menu == \"0\":\n",
    "    exit()\n",
    "  else:\n",
    "    print(\"Menu salah!\")"
   ]
  },
  {
   "cell_type": "code",
   "execution_count": null,
   "id": "af3a4eb3-02be-4d4c-b8b5-7aca238abdc3",
   "metadata": {},
   "outputs": [
    {
     "name": "stdout",
     "output_type": "stream",
     "text": [
      "=== APLIKASI DATABASE PYTHON ===\n",
      "1. Insert Data\n",
      "2. Tampilkan Data\n",
      "3. Update Data\n",
      "4. Hapus Data\n",
      "5. Cari Data\n",
      "0. Keluar\n",
      "------------------\n"
     ]
    },
    {
     "name": "stdin",
     "output_type": "stream",
     "text": [
      "Pilih menu>  1\n",
      "Masukan nama:  agung\n",
      "Masukan alamat:  pamulang\n"
     ]
    },
    {
     "name": "stdout",
     "output_type": "stream",
     "text": [
      "1 data berhasil disimpan\n",
      "=== APLIKASI DATABASE PYTHON ===\n",
      "1. Insert Data\n",
      "2. Tampilkan Data\n",
      "3. Update Data\n",
      "4. Hapus Data\n",
      "5. Cari Data\n",
      "0. Keluar\n",
      "------------------\n"
     ]
    },
    {
     "name": "stdin",
     "output_type": "stream",
     "text": [
      "Pilih menu>  2\n"
     ]
    },
    {
     "name": "stdout",
     "output_type": "stream",
     "text": [
      "(1, 'koko arif', 'pondok indah')\n",
      "(2, 'rizal', 'pondok guntur')\n",
      "(3, 'Harry', 'tenabang')\n",
      "(4, 'dino', 'jaksel punya')\n",
      "(6, 'ntin', 'tj duren')\n",
      "(7, 'agung', 'pamulang')\n",
      "=== APLIKASI DATABASE PYTHON ===\n",
      "1. Insert Data\n",
      "2. Tampilkan Data\n",
      "3. Update Data\n",
      "4. Hapus Data\n",
      "5. Cari Data\n",
      "0. Keluar\n",
      "------------------\n"
     ]
    },
    {
     "name": "stdin",
     "output_type": "stream",
     "text": [
      "Pilih menu>  3\n"
     ]
    },
    {
     "name": "stdout",
     "output_type": "stream",
     "text": [
      "(1, 'koko arif', 'pondok indah')\n",
      "(2, 'rizal', 'pondok guntur')\n",
      "(3, 'Harry', 'tenabang')\n",
      "(4, 'dino', 'jaksel punya')\n",
      "(6, 'ntin', 'tj duren')\n",
      "(7, 'agung', 'pamulang')\n"
     ]
    },
    {
     "name": "stdin",
     "output_type": "stream",
     "text": [
      "pilih id kurir>  3\n",
      "Nama baru:  Harry Slank\n",
      "Alamat baru:  potlot\n"
     ]
    },
    {
     "name": "stdout",
     "output_type": "stream",
     "text": [
      "1 data berhasil diubah\n",
      "=== APLIKASI DATABASE PYTHON ===\n",
      "1. Insert Data\n",
      "2. Tampilkan Data\n",
      "3. Update Data\n",
      "4. Hapus Data\n",
      "5. Cari Data\n",
      "0. Keluar\n",
      "------------------\n"
     ]
    },
    {
     "name": "stdin",
     "output_type": "stream",
     "text": [
      "Pilih menu>  4\n"
     ]
    },
    {
     "name": "stdout",
     "output_type": "stream",
     "text": [
      "(1, 'koko arif', 'pondok indah')\n",
      "(2, 'rizal', 'pondok guntur')\n",
      "(3, 'Harry Slank', 'potlot')\n",
      "(4, 'dino', 'jaksel punya')\n",
      "(6, 'ntin', 'tj duren')\n",
      "(7, 'agung', 'pamulang')\n"
     ]
    },
    {
     "name": "stdin",
     "output_type": "stream",
     "text": [
      "pilih id kurir>  7\n"
     ]
    },
    {
     "name": "stdout",
     "output_type": "stream",
     "text": [
      "1 data berhasil dihapus\n",
      "=== APLIKASI DATABASE PYTHON ===\n",
      "1. Insert Data\n",
      "2. Tampilkan Data\n",
      "3. Update Data\n",
      "4. Hapus Data\n",
      "5. Cari Data\n",
      "0. Keluar\n",
      "------------------\n"
     ]
    },
    {
     "name": "stdin",
     "output_type": "stream",
     "text": [
      "Pilih menu>  5\n",
      "Kata kunci:  slank\n"
     ]
    },
    {
     "name": "stdout",
     "output_type": "stream",
     "text": [
      "(3, 'Harry Slank', 'potlot')\n",
      "=== APLIKASI DATABASE PYTHON ===\n",
      "1. Insert Data\n",
      "2. Tampilkan Data\n",
      "3. Update Data\n",
      "4. Hapus Data\n",
      "5. Cari Data\n",
      "0. Keluar\n",
      "------------------\n"
     ]
    },
    {
     "name": "stdin",
     "output_type": "stream",
     "text": [
      "Pilih menu>  2\n"
     ]
    },
    {
     "name": "stdout",
     "output_type": "stream",
     "text": [
      "(1, 'koko arif', 'pondok indah')\n",
      "(2, 'rizal', 'pondok guntur')\n",
      "(3, 'Harry Slank', 'potlot')\n",
      "(4, 'dino', 'jaksel punya')\n",
      "(6, 'ntin', 'tj duren')\n",
      "=== APLIKASI DATABASE PYTHON ===\n",
      "1. Insert Data\n",
      "2. Tampilkan Data\n",
      "3. Update Data\n",
      "4. Hapus Data\n",
      "5. Cari Data\n",
      "0. Keluar\n",
      "------------------\n"
     ]
    },
    {
     "name": "stdin",
     "output_type": "stream",
     "text": [
      "Pilih menu>  0\n"
     ]
    },
    {
     "name": "stdout",
     "output_type": "stream",
     "text": [
      "=== APLIKASI DATABASE PYTHON ===\n",
      "1. Insert Data\n",
      "2. Tampilkan Data\n",
      "3. Update Data\n",
      "4. Hapus Data\n",
      "5. Cari Data\n",
      "0. Keluar\n",
      "------------------\n"
     ]
    },
    {
     "name": "stdin",
     "output_type": "stream",
     "text": [
      "Pilih menu>  1\n",
      "Masukan nama:  Tante Retno\n",
      "Masukan alamat:  Ciledug\n"
     ]
    },
    {
     "name": "stdout",
     "output_type": "stream",
     "text": [
      "1 data berhasil disimpan\n",
      "=== APLIKASI DATABASE PYTHON ===\n",
      "1. Insert Data\n",
      "2. Tampilkan Data\n",
      "3. Update Data\n",
      "4. Hapus Data\n",
      "5. Cari Data\n",
      "0. Keluar\n",
      "------------------\n"
     ]
    }
   ],
   "source": [
    "if __name__ == \"__main__\":\n",
    "  while(True):\n",
    "    show_menu(db)"
   ]
  },
  {
   "cell_type": "code",
   "execution_count": null,
   "id": "9ac1a9ce-64a2-4ace-ad3a-356a13dc27de",
   "metadata": {},
   "outputs": [],
   "source": []
  }
 ],
 "metadata": {
  "kernelspec": {
   "display_name": "Python 3 (ipykernel)",
   "language": "python",
   "name": "python3"
  },
  "language_info": {
   "codemirror_mode": {
    "name": "ipython",
    "version": 3
   },
   "file_extension": ".py",
   "mimetype": "text/x-python",
   "name": "python",
   "nbconvert_exporter": "python",
   "pygments_lexer": "ipython3",
   "version": "3.8.13"
  }
 },
 "nbformat": 4,
 "nbformat_minor": 5
}
