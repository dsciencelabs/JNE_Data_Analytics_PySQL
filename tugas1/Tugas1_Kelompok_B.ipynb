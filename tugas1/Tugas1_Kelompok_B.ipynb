{
 "cells": [
  {
   "cell_type": "markdown",
   "id": "7ee28d6f-f5ee-457a-a977-8349f9cd972b",
   "metadata": {},
   "source": [
    "## Tugas Kelompok B\n",
    "\n",
    "CRUD adalah operasi dasar yang harus dipahami pada pemrograman database. CRUD itu adalah singkatan dari Create, Read, Update, dan Delete. Hal ini, sudah kita pelajari diatas. Berikut ini adalah contoh aplikasi yang dapat kita bangun jika sudah memahami materi sudah dipelajari.\n",
    "\n",
    "**Adapun tugas kelompok B** adalah untuk memperbaiki koding dibawah ini. Sehingga dapat depergunakan sebagai applikasi sederhana untuk mengakses database.\n",
    "\n",
    "**Kisi-kisi:**\n",
    "\n",
    "1. Perhatikan nama database dan koneksinya \n",
    "    jawab : done\n",
    "2. Perhatikan apakah sudah ada tabelnya?\n",
    "    jawab : done\n",
    "3. Pastikan nama kolom yang digunakan sudah sesuai!\n",
    "    jawab : done"
   ]
  },
  {
   "cell_type": "code",
   "execution_count": 2,
   "id": "d7e21689-4373-4ef6-9c92-d54fc586c950",
   "metadata": {},
   "outputs": [],
   "source": [
    "import mysql.connector\n",
    "import os"
   ]
  },
  {
   "cell_type": "code",
   "execution_count": 5,
   "id": "599f27c4-028c-49d7-ae25-b3cc39f4bc7b",
   "metadata": {},
   "outputs": [],
   "source": [
    "db = mysql.connector.connect(\n",
    "  host=\"localhost\",\n",
    "  user=\"audit\",\n",
    "  passwd=\"123\",\n",
    "  database=\"jne\"\n",
    ")\n",
    "# masuk dengan user name audit"
   ]
  },
  {
   "cell_type": "code",
   "execution_count": 6,
   "id": "9ac439c7-d833-4c3f-93da-c5f1d32117e3",
   "metadata": {},
   "outputs": [],
   "source": [
    "cursor = db.cursor()\n",
    "sql = '''CREATE TABLE pelanggan (\n",
    "            pelanggan_id INT AUTO_INCREMENT PRIMARY KEY,\n",
    "            nama VARCHAR(255),\n",
    "            alamat Varchar(255))'''\n",
    "cursor.execute(sql)\n",
    "\n",
    "# dibuatkan tabel terlebih dulu pada database jne"
   ]
  },
  {
   "cell_type": "code",
   "execution_count": null,
   "id": "607e9124-4b54-44e0-b8b6-84c4bf8b9fdf",
   "metadata": {},
   "outputs": [
    {
     "name": "stdout",
     "output_type": "stream",
     "text": [
      "=== APLIKASI DATABASE PYTHON ===\n",
      "1. Insert Data\n",
      "2. Tampilkan Data\n",
      "3. Update Data\n",
      "4. Hapus Data\n",
      "5. Cari Data\n",
      "0. Keluar\n",
      "------------------\n"
     ]
    },
    {
     "name": "stdin",
     "output_type": "stream",
     "text": [
      "Pilih menu>  1\n",
      "Masukan nama pelanggan:  dwiki\n",
      "Masukan alamat pengiriman:  bogor\n"
     ]
    },
    {
     "name": "stdout",
     "output_type": "stream",
     "text": [
      "1 data berhasil disimpan\n",
      "=== APLIKASI DATABASE PYTHON ===\n",
      "1. Insert Data\n",
      "2. Tampilkan Data\n",
      "3. Update Data\n",
      "4. Hapus Data\n",
      "5. Cari Data\n",
      "0. Keluar\n",
      "------------------\n"
     ]
    },
    {
     "name": "stdin",
     "output_type": "stream",
     "text": [
      "Pilih menu>  1\n",
      "Masukan nama pelanggan:  danu\n",
      "Masukan alamat pengiriman:  Bekasi Kabupaten\n"
     ]
    },
    {
     "name": "stdout",
     "output_type": "stream",
     "text": [
      "1 data berhasil disimpan\n",
      "=== APLIKASI DATABASE PYTHON ===\n",
      "1. Insert Data\n",
      "2. Tampilkan Data\n",
      "3. Update Data\n",
      "4. Hapus Data\n",
      "5. Cari Data\n",
      "0. Keluar\n",
      "------------------\n"
     ]
    },
    {
     "name": "stdin",
     "output_type": "stream",
     "text": [
      "Pilih menu>  1\n",
      "Masukan nama pelanggan:  Koko\n",
      "Masukan alamat pengiriman:  Dusun dutabuntu\n"
     ]
    },
    {
     "name": "stdout",
     "output_type": "stream",
     "text": [
      "1 data berhasil disimpan\n",
      "=== APLIKASI DATABASE PYTHON ===\n",
      "1. Insert Data\n",
      "2. Tampilkan Data\n",
      "3. Update Data\n",
      "4. Hapus Data\n",
      "5. Cari Data\n",
      "0. Keluar\n",
      "------------------\n"
     ]
    },
    {
     "name": "stdin",
     "output_type": "stream",
     "text": [
      "Pilih menu>  2\n"
     ]
    },
    {
     "name": "stdout",
     "output_type": "stream",
     "text": [
      "(1, 'dwiki', 'bogor')\n",
      "(2, 'danu', 'Bekasi Kabupaten')\n",
      "(3, 'Koko', 'Dusun dutabuntu')\n",
      "=== APLIKASI DATABASE PYTHON ===\n",
      "1. Insert Data\n",
      "2. Tampilkan Data\n",
      "3. Update Data\n",
      "4. Hapus Data\n",
      "5. Cari Data\n",
      "0. Keluar\n",
      "------------------\n"
     ]
    },
    {
     "name": "stdin",
     "output_type": "stream",
     "text": [
      "Pilih menu>  3\n"
     ]
    },
    {
     "name": "stdout",
     "output_type": "stream",
     "text": [
      "(1, 'dwiki', 'bogor')\n",
      "(2, 'danu', 'Bekasi Kabupaten')\n",
      "(3, 'Koko', 'Dusun dutabuntu')\n"
     ]
    },
    {
     "name": "stdin",
     "output_type": "stream",
     "text": [
      "pilih id pelanggan>  1\n",
      "Nama baru:  ceu dwiki\n",
      "Alamat baru:  Mangga besar\n"
     ]
    },
    {
     "name": "stdout",
     "output_type": "stream",
     "text": [
      "1 data berhasil diubah\n",
      "=== APLIKASI DATABASE PYTHON ===\n",
      "1. Insert Data\n",
      "2. Tampilkan Data\n",
      "3. Update Data\n",
      "4. Hapus Data\n",
      "5. Cari Data\n",
      "0. Keluar\n",
      "------------------\n"
     ]
    },
    {
     "name": "stdin",
     "output_type": "stream",
     "text": [
      "Pilih menu>  5\n",
      "Kata kunci:  1\n"
     ]
    },
    {
     "name": "stdout",
     "output_type": "stream",
     "text": [
      "=== APLIKASI DATABASE PYTHON ===\n",
      "1. Insert Data\n",
      "2. Tampilkan Data\n",
      "3. Update Data\n",
      "4. Hapus Data\n",
      "5. Cari Data\n",
      "0. Keluar\n",
      "------------------\n"
     ]
    },
    {
     "name": "stdin",
     "output_type": "stream",
     "text": [
      "Pilih menu>  5\n",
      "Kata kunci:  dwiky\n"
     ]
    },
    {
     "name": "stdout",
     "output_type": "stream",
     "text": [
      "=== APLIKASI DATABASE PYTHON ===\n",
      "1. Insert Data\n",
      "2. Tampilkan Data\n",
      "3. Update Data\n",
      "4. Hapus Data\n",
      "5. Cari Data\n",
      "0. Keluar\n",
      "------------------\n"
     ]
    }
   ],
   "source": [
    "def insert_data(db):\n",
    "  nama = input(\"Masukan nama pelanggan: \")\n",
    "  alamat = input(\"Masukan alamat pengiriman: \")\n",
    "  val = (nama, alamat)\n",
    "  cursor = db.cursor()\n",
    "  sql = \"INSERT INTO pelanggan (nama, alamat) VALUES (%s, %s)\"\n",
    "  cursor.execute(sql, val)\n",
    "  db.commit()\n",
    "  print(\"{} data berhasil disimpan\".format(cursor.rowcount))\n",
    "\n",
    "\n",
    "def show_data(db):\n",
    "  cursor = db.cursor()\n",
    "  sql = \"SELECT * FROM pelanggan\"\n",
    "  cursor.execute(sql)\n",
    "  results = cursor.fetchall()\n",
    "  \n",
    "  if cursor.rowcount < 0:\n",
    "    print(\"Tidak ada data\")\n",
    "  else:\n",
    "    for data in results:\n",
    "      print(data)\n",
    "\n",
    "\n",
    "def update_data(db):\n",
    "  cursor = db.cursor()\n",
    "  show_data(db)\n",
    "  pelanggan_id = input(\"pilih id pelanggan> \")\n",
    "  nama = input(\"Nama baru: \")\n",
    "  alamat = input(\"Alamat baru: \")\n",
    "\n",
    "  sql = \"UPDATE pelanggan SET nama=%s, alamat=%s WHERE pelanggan_id=%s\"\n",
    "  val = (nama, alamat, pelanggan_id)\n",
    "  cursor.execute(sql, val)\n",
    "  db.commit()\n",
    "  print(\"{} data berhasil diubah\".format(cursor.rowcount))\n",
    "\n",
    "\n",
    "def delete_data(db):\n",
    "  cursor = db.cursor()\n",
    "  show_data(db)\n",
    "  pelanggan_id = input(\"pilih id pelanggan> \")\n",
    "  sql = \"DELETE FROM pelanggan WHERE pelanggan_id=%s\"\n",
    "  val = (pelanggan_id,)\n",
    "  cursor.execute(sql, val)\n",
    "  db.commit()\n",
    "  print(\"{} data berhasil dihapus\".format(cursor.rowcount))\n",
    "\n",
    "\n",
    "def search_data(db):\n",
    "  cursor = db.cursor()\n",
    "  keyword = input(\"Kata kunci: \")\n",
    "  sql = \"SELECT * FROM pelanggan WHERE nama LIKE %s OR alamat LIKE %s\"\n",
    "  val = (\"%{}%\".format(keyword), \"%{}%\".format(keyword))\n",
    "  cursor.execute(sql, val)\n",
    "  results = cursor.fetchall()\n",
    "  \n",
    "  if cursor.rowcount < 0:\n",
    "    print(\"Tidak ada data\")\n",
    "  else:\n",
    "    for data in results:\n",
    "      print(data)\n",
    "\n",
    "\n",
    "def show_menu(db):\n",
    "  print(\"=== APLIKASI DATABASE PYTHON ===\")\n",
    "  print(\"1. Insert Data\")\n",
    "  print(\"2. Tampilkan Data\")\n",
    "  print(\"3. Update Data\")\n",
    "  print(\"4. Hapus Data\")\n",
    "  print(\"5. Cari Data\")\n",
    "  print(\"0. Keluar\")\n",
    "  print(\"------------------\")\n",
    "  menu = input(\"Pilih menu> \")\n",
    "\n",
    "  #clear screen\n",
    "  os.system(\"clear\")\n",
    "\n",
    "  if menu == \"1\":\n",
    "    insert_data(db)\n",
    "  elif menu == \"2\":\n",
    "    show_data(db)\n",
    "  elif menu == \"3\":\n",
    "    update_data(db)\n",
    "  elif menu == \"4\":\n",
    "    delete_data(db)\n",
    "  elif menu == \"5\":\n",
    "    search_data(db)\n",
    "  elif menu == \"0\":\n",
    "    exit()\n",
    "  else:\n",
    "    print(\"Menu salah!\")\n",
    "\n",
    "\n",
    "if __name__ == \"__main__\":\n",
    "  while(True):\n",
    "    show_menu(db)"
   ]
  },
  {
   "cell_type": "code",
   "execution_count": null,
   "id": "9c1227ea-6558-444d-a8cc-54c882e03040",
   "metadata": {},
   "outputs": [],
   "source": []
  }
 ],
 "metadata": {
  "kernelspec": {
   "display_name": "Python 3 (ipykernel)",
   "language": "python",
   "name": "python3"
  },
  "language_info": {
   "codemirror_mode": {
    "name": "ipython",
    "version": 3
   },
   "file_extension": ".py",
   "mimetype": "text/x-python",
   "name": "python",
   "nbconvert_exporter": "python",
   "pygments_lexer": "ipython3",
   "version": "3.9.16"
  }
 },
 "nbformat": 4,
 "nbformat_minor": 5
}
