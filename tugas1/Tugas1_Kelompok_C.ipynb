{
 "cells": [
  {
   "cell_type": "code",
   "execution_count": 1,
   "id": "9ccf9565-ad1b-4bdc-a129-790f566aa7d9",
   "metadata": {},
   "outputs": [
    {
     "name": "stdout",
     "output_type": "stream",
     "text": [
      "Requirement already satisfied: mysql-connector in c:\\users\\orion\\anaconda3\\envs\\py3_8_13\\lib\\site-packages (2.2.9)\n",
      "Note: you may need to restart the kernel to use updated packages.\n"
     ]
    }
   ],
   "source": [
    "pip install mysql-connector"
   ]
  },
  {
   "cell_type": "code",
   "execution_count": 1,
   "id": "7adf77f2-c783-4917-bb51-f0794c8e5778",
   "metadata": {},
   "outputs": [],
   "source": [
    "import os"
   ]
  },
  {
   "cell_type": "code",
   "execution_count": 3,
   "id": "d1cbf5d8-eff4-42f0-a608-b4ed38722854",
   "metadata": {},
   "outputs": [
    {
     "name": "stdout",
     "output_type": "stream",
     "text": [
      "terhubung\n"
     ]
    }
   ],
   "source": [
    "import mysql.connector\n",
    "\n",
    "db = mysql.connector.connect(\n",
    "  host='localhost',\n",
    "  user='jne',\n",
    "  passwd='123'\n",
    ")\n",
    "\n",
    "if db.is_connected():\n",
    "  print('terhubung')"
   ]
  },
  {
   "cell_type": "code",
   "execution_count": null,
   "id": "4f285bd6-50dc-4a39-85c2-e056f3790ffe",
   "metadata": {},
   "outputs": [],
   "source": [
    "cursor = db.cursor()\n",
    "cursor.execute('CREATE DATABASE jenispaket')"
   ]
  },
  {
   "cell_type": "code",
   "execution_count": 18,
   "id": "8eddab1f-5bbc-47ef-884f-86e77a22b959",
   "metadata": {},
   "outputs": [],
   "source": [
    "import mysql.connector\n",
    "\n",
    "db = mysql.connector.connect(\n",
    "  host='localhost',\n",
    "  user='jne',\n",
    "  passwd='123',\n",
    "  database='jenispaket'\n",
    ")"
   ]
  },
  {
   "cell_type": "code",
   "execution_count": null,
   "id": "1520fea9-8ff4-4dbf-92cd-9bfa34bee09a",
   "metadata": {},
   "outputs": [],
   "source": [
    "cursor = db.cursor()\n",
    "sql = '''CREATE TABLE paket (\n",
    "            paket_id INT AUTO_INCREMENT PRIMARY KEY,\n",
    "            nama_barang VARCHAR(255),\n",
    "            jenis_paket Varchar(255))'''\n",
    "\n",
    "cursor.execute(sql)"
   ]
  },
  {
   "cell_type": "code",
   "execution_count": 21,
   "id": "bc031e27-5ccf-46c0-b6c9-740b7193d79a",
   "metadata": {},
   "outputs": [],
   "source": [
    "def insert_data(db):\n",
    "  nama_barang = input(\"Masukan nama barang: \")\n",
    "  jenis_paket = input(\"Masukan jenis paket pengiriman: \")\n",
    "  val = (nama_barang, jenis_paket)\n",
    "  cursor = db.cursor()\n",
    "  sql = \"INSERT INTO paket (nama_barang, jenis_paket) VALUES (%s, %s)\"\n",
    "  cursor.execute(sql, val)\n",
    "  db.commit()\n",
    "  print(\"{} data berhasil disimpan\".format(cursor.rowcount))"
   ]
  },
  {
   "cell_type": "code",
   "execution_count": 22,
   "id": "4f6030f7-1753-4512-b9da-32394db8aabd",
   "metadata": {},
   "outputs": [],
   "source": [
    "def show_data(db):\n",
    "  cursor = db.cursor()\n",
    "  sql = \"SELECT * FROM paket\"\n",
    "  cursor.execute(sql)\n",
    "  results = cursor.fetchall()\n",
    "  \n",
    "  if cursor.rowcount < 0:\n",
    "    print(\"Tidak ada data\")\n",
    "  else:\n",
    "    for data in results:\n",
    "      print(data)"
   ]
  },
  {
   "cell_type": "code",
   "execution_count": 23,
   "id": "fb5ebd60-25bf-4f82-a6c7-a77217a83ae8",
   "metadata": {},
   "outputs": [],
   "source": [
    "def update_data(db):\n",
    "  cursor = db.cursor()\n",
    "  show_data(db)\n",
    "  paket_id = input(\"pilih id paket> \")\n",
    "  nama_barang = input(\"Nama Barang: \")\n",
    "  jenis_paket = input(\"Jenis paket: \")\n",
    "\n",
    "  sql = \"UPDATE paket SET nama_barang=%s, jenis_paket=%s WHERE paket_id=%s\"\n",
    "  val = (nama_barang, jenis_paket, paket_id)\n",
    "  cursor.execute(sql, val)\n",
    "  db.commit()\n",
    "  print(\"{} data berhasil diubah\".format(cursor.rowcount))"
   ]
  },
  {
   "cell_type": "code",
   "execution_count": 24,
   "id": "efa1f9ea-6106-4a82-b795-061a447de16d",
   "metadata": {},
   "outputs": [],
   "source": [
    "def delete_data(db):\n",
    "  cursor = db.cursor()\n",
    "  show_data(db)\n",
    "  paket_id = input(\"pilih id paket> \")\n",
    "  sql = \"DELETE FROM paket WHERE paket_id=%s\"\n",
    "  val = (paket_id,)\n",
    "  cursor.execute(sql, val)\n",
    "  db.commit()\n",
    "  print(\"{} data berhasil dihapus\".format(cursor.rowcount))"
   ]
  },
  {
   "cell_type": "code",
   "execution_count": 25,
   "id": "20ad7173-f7fe-49ab-bd6e-c3feca567902",
   "metadata": {},
   "outputs": [],
   "source": [
    "def delete_data(db):\n",
    "  cursor = db.cursor()\n",
    "  show_data(db)\n",
    "  paket_id = input(\"pilih id paket> \")\n",
    "  sql = \"DELETE FROM paket WHERE paket_id=%s\"\n",
    "  val = (paket_id,)\n",
    "  cursor.execute(sql, val)\n",
    "  db.commit()\n",
    "  print(\"{} data berhasil dihapus\".format(cursor.rowcount))"
   ]
  },
  {
   "cell_type": "code",
   "execution_count": null,
   "id": "18e47cf4-2b97-4fdc-9f96-f3d78819c355",
   "metadata": {},
   "outputs": [
    {
     "name": "stdout",
     "output_type": "stream",
     "text": [
      "=== APLIKASI DATABASE PYTHON ===\n",
      "1. Insert Data\n",
      "2. Tampilkan Data\n",
      "3. Update Data\n",
      "4. Hapus Data\n",
      "5. Cari Data\n",
      "0. Keluar\n",
      "------------------\n"
     ]
    },
    {
     "name": "stdin",
     "output_type": "stream",
     "text": [
      "Pilih menu>  1\n",
      "Masukan nama barang:  obat\n",
      "Masukan jenis paket pengiriman:  REG\n"
     ]
    },
    {
     "name": "stdout",
     "output_type": "stream",
     "text": [
      "1 data berhasil disimpan\n",
      "=== APLIKASI DATABASE PYTHON ===\n",
      "1. Insert Data\n",
      "2. Tampilkan Data\n",
      "3. Update Data\n",
      "4. Hapus Data\n",
      "5. Cari Data\n",
      "0. Keluar\n",
      "------------------\n"
     ]
    },
    {
     "name": "stdin",
     "output_type": "stream",
     "text": [
      "Pilih menu>  2\n"
     ]
    },
    {
     "name": "stdout",
     "output_type": "stream",
     "text": [
      "(1, 'Buku', 'REG')\n",
      "(2, 'Buku', 'YES')\n",
      "(3, 'Baju', 'REG')\n",
      "(4, 'Makeup', 'YES')\n",
      "(5, 'Meja', 'YES')\n",
      "(6, 'obat', 'REG')\n",
      "=== APLIKASI DATABASE PYTHON ===\n",
      "1. Insert Data\n",
      "2. Tampilkan Data\n",
      "3. Update Data\n",
      "4. Hapus Data\n",
      "5. Cari Data\n",
      "0. Keluar\n",
      "------------------\n"
     ]
    },
    {
     "name": "stdin",
     "output_type": "stream",
     "text": [
      "Pilih menu>  3\n"
     ]
    },
    {
     "name": "stdout",
     "output_type": "stream",
     "text": [
      "(1, 'Buku', 'REG')\n",
      "(2, 'Buku', 'YES')\n",
      "(3, 'Baju', 'REG')\n",
      "(4, 'Makeup', 'YES')\n",
      "(5, 'Meja', 'YES')\n",
      "(6, 'obat', 'REG')\n"
     ]
    },
    {
     "name": "stdin",
     "output_type": "stream",
     "text": [
      "pilih id paket>  2\n",
      "Nama Barang:  Skincare\n",
      "Jenis paket:  YES\n"
     ]
    },
    {
     "name": "stdout",
     "output_type": "stream",
     "text": [
      "1 data berhasil diubah\n",
      "=== APLIKASI DATABASE PYTHON ===\n",
      "1. Insert Data\n",
      "2. Tampilkan Data\n",
      "3. Update Data\n",
      "4. Hapus Data\n",
      "5. Cari Data\n",
      "0. Keluar\n",
      "------------------\n"
     ]
    },
    {
     "name": "stdin",
     "output_type": "stream",
     "text": [
      "Pilih menu>  4\n"
     ]
    },
    {
     "name": "stdout",
     "output_type": "stream",
     "text": [
      "(1, 'Buku', 'REG')\n",
      "(2, 'Skincare', 'YES')\n",
      "(3, 'Baju', 'REG')\n",
      "(4, 'Makeup', 'YES')\n",
      "(5, 'Meja', 'YES')\n",
      "(6, 'obat', 'REG')\n"
     ]
    },
    {
     "name": "stdin",
     "output_type": "stream",
     "text": [
      "pilih id paket>  5\n"
     ]
    },
    {
     "name": "stdout",
     "output_type": "stream",
     "text": [
      "1 data berhasil dihapus\n",
      "=== APLIKASI DATABASE PYTHON ===\n",
      "1. Insert Data\n",
      "2. Tampilkan Data\n",
      "3. Update Data\n",
      "4. Hapus Data\n",
      "5. Cari Data\n",
      "0. Keluar\n",
      "------------------\n"
     ]
    },
    {
     "name": "stdin",
     "output_type": "stream",
     "text": [
      "Pilih menu>  2\n"
     ]
    },
    {
     "name": "stdout",
     "output_type": "stream",
     "text": [
      "(1, 'Buku', 'REG')\n",
      "(2, 'Skincare', 'YES')\n",
      "(3, 'Baju', 'REG')\n",
      "(4, 'Makeup', 'YES')\n",
      "(6, 'obat', 'REG')\n",
      "=== APLIKASI DATABASE PYTHON ===\n",
      "1. Insert Data\n",
      "2. Tampilkan Data\n",
      "3. Update Data\n",
      "4. Hapus Data\n",
      "5. Cari Data\n",
      "0. Keluar\n",
      "------------------\n"
     ]
    }
   ],
   "source": [
    "def show_menu(db):\n",
    "  print(\"=== APLIKASI DATABASE PYTHON ===\")\n",
    "  print(\"1. Insert Data\")\n",
    "  print(\"2. Tampilkan Data\")\n",
    "  print(\"3. Update Data\")\n",
    "  print(\"4. Hapus Data\")\n",
    "  print(\"5. Cari Data\")\n",
    "  print(\"0. Keluar\")\n",
    "  print(\"------------------\")\n",
    "  menu = input(\"Pilih menu> \")\n",
    "\n",
    "  os.system(\"clear\")\n",
    "\n",
    "  if menu == \"1\":\n",
    "    insert_data(db)\n",
    "  elif menu == \"2\":\n",
    "    show_data(db)\n",
    "  elif menu == \"3\":\n",
    "    update_data(db)\n",
    "  elif menu == \"4\":\n",
    "    delete_data(db)\n",
    "  elif menu == \"5\":\n",
    "    search_data(db)\n",
    "  elif menu == \"0\":\n",
    "    exit()\n",
    "  else:\n",
    "    print(\"Menu salah!\")\n",
    "\n",
    "if __name__ == \"__main__\":\n",
    "  while(True):\n",
    "    show_menu(db)"
   ]
  },
  {
   "cell_type": "code",
   "execution_count": null,
   "id": "7fa2fc34-3bfe-4c7e-ad80-9c4080834030",
   "metadata": {},
   "outputs": [],
   "source": []
  }
 ],
 "metadata": {
  "kernelspec": {
   "display_name": "Python 3 (ipykernel)",
   "language": "python",
   "name": "python3"
  },
  "language_info": {
   "codemirror_mode": {
    "name": "ipython",
    "version": 3
   },
   "file_extension": ".py",
   "mimetype": "text/x-python",
   "name": "python",
   "nbconvert_exporter": "python",
   "pygments_lexer": "ipython3",
   "version": "3.8.13"
  }
 },
 "nbformat": 4,
 "nbformat_minor": 5
}
