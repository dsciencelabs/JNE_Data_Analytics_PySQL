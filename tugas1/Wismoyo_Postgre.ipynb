{
 "cells": [
  {
   "cell_type": "markdown",
   "id": "e059c173-5af5-4190-bff0-31ca3bc4e4c5",
   "metadata": {},
   "source": [
    "# Instalasi Modul MySQL Connector"
   ]
  },
  {
   "cell_type": "code",
   "execution_count": 4,
   "id": "90701eac-b31e-489a-9d4a-adbc1b02bba9",
   "metadata": {},
   "outputs": [
    {
     "name": "stdout",
     "output_type": "stream",
     "text": [
      "Requirement already satisfied: psycopg2 in c:\\users\\crm\\.conda\\envs\\py3_8_13\\lib\\site-packages (2.9.6)\n",
      "Note: you may need to restart the kernel to use updated packages.\n"
     ]
    }
   ],
   "source": [
    "pip install psycopg2"
   ]
  },
  {
   "cell_type": "markdown",
   "id": "c760fba3-90a3-466d-8f06-b65520798313",
   "metadata": {},
   "source": [
    "## Koneksikan Python ke PostgreSQL"
   ]
  },
  {
   "cell_type": "code",
   "execution_count": 10,
   "id": "4d560d3f-0626-425d-ad09-38652273db0b",
   "metadata": {},
   "outputs": [
    {
     "name": "stdout",
     "output_type": "stream",
     "text": [
      "Berhasil terkoneksi\n"
     ]
    }
   ],
   "source": [
    "import psycopg2\n",
    "\n",
    "try:\n",
    "    db5 = psycopg2.connect('''user='postgres'\n",
    "                               password='123'\n",
    "                               dbname='jne'\n",
    "                               host='localhost'\n",
    "                               port=5432''')\n",
    "    print (\"Berhasil terkoneksi\")\n",
    "except:\n",
    "    print (\"Tidak dapat terkoneksi dengan database\")"
   ]
  },
  {
   "cell_type": "markdown",
   "id": "a6edcbe8-11f4-4acf-bdd2-4ec6108042d8",
   "metadata": {},
   "source": [
    "# Lanjutkan Tutorial sebelumnya"
   ]
  },
  {
   "cell_type": "markdown",
   "id": "874f84fc-813f-4b60-aab1-070f2382d661",
   "metadata": {},
   "source": [
    "## Membuat Tabel"
   ]
  },
  {
   "cell_type": "code",
   "execution_count": 11,
   "id": "6d9cf3fe-6334-4812-b765-0d119b1a6764",
   "metadata": {},
   "outputs": [
    {
     "name": "stdout",
     "output_type": "stream",
     "text": [
      "berhasil terkoneksi\n"
     ]
    }
   ],
   "source": [
    "import psycopg2\n",
    "db5 = psycopg2.connect('''user='postgres'\n",
    "                        password='123'\n",
    "                        dbname='jne'\n",
    "                        host='localhost'\n",
    "                        port=5432''')\n",
    "\n",
    "print (\"berhasil terkoneksi\")"
   ]
  },
  {
   "cell_type": "code",
   "execution_count": 12,
   "id": "7f828456-f055-4829-9eb4-fd956ad31286",
   "metadata": {},
   "outputs": [
    {
     "name": "stdout",
     "output_type": "stream",
     "text": [
      "Tabel berhasil di buat\n"
     ]
    }
   ],
   "source": [
    "import psycopg2\n",
    "db5 = psycopg2.connect('''user='postgres'\n",
    "                        password='123'\n",
    "                        dbname='jne'\n",
    "                        host='localhost'\n",
    "                        port=5432''')\n",
    "cursor = db5.cursor()\n",
    "sql = '''CREATE TABLE karyawan (\n",
    "            karyawan_id INT PRIMARY KEY NOT NULL,\n",
    "            nama TEXT NOT NULL,\n",
    "            email TEXT NOT NULL)'''\n",
    "\n",
    "cursor.execute(sql)\n",
    "db5.commit()\n",
    "print (\"Tabel berhasil di buat\")"
   ]
  },
  {
   "cell_type": "markdown",
   "id": "1aaaf963-a5b2-486e-b045-79dcac34a5ad",
   "metadata": {},
   "source": [
    "## Insert 1 Data"
   ]
  },
  {
   "cell_type": "code",
   "execution_count": 13,
   "id": "53dd56fa-4cdc-40c7-b658-884a0c72bd85",
   "metadata": {},
   "outputs": [
    {
     "name": "stdout",
     "output_type": "stream",
     "text": [
      "1 data ditambahkan\n"
     ]
    }
   ],
   "source": [
    "import psycopg2\n",
    "db5 = psycopg2.connect('''user='postgres'\n",
    "                        password='123'\n",
    "                        dbname='jne'\n",
    "                        host='localhost'\n",
    "                        port=5432''')\n",
    "\n",
    "cursor = db5.cursor()\n",
    "sql = \"\"\"INSERT INTO karyawan (karyawan_id, nama, email) VALUES  (1, 'Bakti', 'bakti@gmail.com')\"\"\"\n",
    "cursor.execute(sql)\n",
    "db5.commit()\n",
    "\n",
    "print('{} data ditambahkan'.format(cursor.rowcount))"
   ]
  },
  {
   "cell_type": "markdown",
   "id": "eee18684-725f-4809-9bf8-9542284a32f2",
   "metadata": {},
   "source": [
    "## Insert Beberapa Data"
   ]
  },
  {
   "cell_type": "code",
   "execution_count": 14,
   "id": "ad5ec7bd-9fec-4a56-aabf-c3fec3542c97",
   "metadata": {},
   "outputs": [
    {
     "name": "stdout",
     "output_type": "stream",
     "text": [
      "data berhasil ditambahkan\n"
     ]
    }
   ],
   "source": [
    "import psycopg2\n",
    "db5 = psycopg2.connect('''user='postgres'\n",
    "                        password='123'\n",
    "                        dbname='jne'\n",
    "                        host='localhost'\n",
    "                        port=5432''')\n",
    "\n",
    "cursor = db5.cursor()\n",
    "sql = \"\"\"INSERT INTO karyawan (karyawan_id, nama, email) VALUES (2, 'Yosia', 'yosia@gmail.com'), (3, 'Fani', 'fani@yahoo.com'), (4, 'Leo', 'Leo@yahoo.com'), (5, 'Lexa','Lexa@gmail.com')\"\"\"\n",
    "cursor.execute(sql)\n",
    "db5.commit()\n",
    "print(\"data berhasil ditambahkan\")"
   ]
  },
  {
   "cell_type": "markdown",
   "id": "cbf1103c-67a0-4e30-8a04-4d19e3eb61c3",
   "metadata": {},
   "source": [
    "## Menampilkan Data"
   ]
  },
  {
   "cell_type": "markdown",
   "id": "613b1452-edcc-4114-9156-d5cfc61c9c6f",
   "metadata": {},
   "source": [
    "### Menampilkan 1 Data Pertama"
   ]
  },
  {
   "cell_type": "code",
   "execution_count": 17,
   "id": "742e6a54-0d7b-495f-bf73-c664d3e9d89e",
   "metadata": {},
   "outputs": [
    {
     "name": "stdout",
     "output_type": "stream",
     "text": [
      "1\n",
      "Bakti\n",
      "bakti@gmail.com\n"
     ]
    }
   ],
   "source": [
    "import psycopg2\n",
    "db5 = psycopg2.connect('''user='postgres'\n",
    "                        password='123'\n",
    "                        dbname='jne'\n",
    "                        host='localhost'\n",
    "                        port=5432''')\n",
    "\n",
    "cursor = db5.cursor()\n",
    "sql = \"SELECT * FROM karyawan\"\n",
    "cursor.execute(sql)\n",
    "\n",
    "results = cursor.fetchone()\n",
    "\n",
    "for data in results:\n",
    "  print(data)"
   ]
  },
  {
   "cell_type": "markdown",
   "id": "22bd3fdc-92e7-4ae7-907a-d6de40f9bd2d",
   "metadata": {},
   "source": [
    "### Menampilkan semua data"
   ]
  },
  {
   "cell_type": "code",
   "execution_count": 18,
   "id": "49646e8f-2cc0-48ec-9939-e365ff851714",
   "metadata": {},
   "outputs": [
    {
     "name": "stdout",
     "output_type": "stream",
     "text": [
      "(1, 'Bakti', 'bakti@gmail.com')\n",
      "(2, 'Yosia', 'yosia@gmail.com')\n",
      "(3, 'Fani', 'fani@yahoo.com')\n",
      "(4, 'Leo', 'Leo@yahoo.com')\n",
      "(5, 'Lexa', 'Lexa@gmail.com')\n"
     ]
    }
   ],
   "source": [
    "cursor = db5.cursor()\n",
    "sql = \"SELECT * FROM karyawan\"\n",
    "cursor.execute(sql)\n",
    "\n",
    "results = cursor.fetchall()\n",
    "\n",
    "for data in results:\n",
    "  print(data)"
   ]
  },
  {
   "cell_type": "markdown",
   "id": "9bb8ced3-cd94-4478-b003-53b044a2fe4f",
   "metadata": {},
   "source": [
    "## Update Data"
   ]
  },
  {
   "cell_type": "markdown",
   "id": "de2de947-018d-4329-82cc-2348e0ce0e7e",
   "metadata": {},
   "source": [
    "#### Update data email a.n Lexa"
   ]
  },
  {
   "cell_type": "code",
   "execution_count": 19,
   "id": "5939b727-9e42-41d6-9932-62b7ccc1d989",
   "metadata": {},
   "outputs": [
    {
     "name": "stdout",
     "output_type": "stream",
     "text": [
      "1 data diubah\n"
     ]
    }
   ],
   "source": [
    "import psycopg2\n",
    "db5 = psycopg2.connect('''user='postgres'\n",
    "                        password='123'\n",
    "                        dbname='jne'\n",
    "                        host='localhost'\n",
    "                        port=5432''')\n",
    "\n",
    "cursor = db5.cursor()\n",
    "sql = \"UPDATE karyawan SET nama=%s, email=%s WHERE karyawan_id=%s\"\n",
    "val = (\"Lexa\", \"Lexander@yahoo.com\", 5)\n",
    "cursor.execute(sql, val)\n",
    "\n",
    "db5.commit()\n",
    "\n",
    "print(\"{} data diubah\".format(cursor.rowcount))"
   ]
  },
  {
   "cell_type": "markdown",
   "id": "ccd6b19e-e78e-415f-af0b-87fc4273f247",
   "metadata": {},
   "source": [
    "## Menghapus Data"
   ]
  },
  {
   "cell_type": "markdown",
   "id": "715192a5-a90b-4ccf-9c6f-20d664590d59",
   "metadata": {},
   "source": [
    "#### Menghapus data a.n Leo"
   ]
  },
  {
   "cell_type": "code",
   "execution_count": 20,
   "id": "c8114188-c21d-4ab6-b5ed-0af09ed8f504",
   "metadata": {},
   "outputs": [
    {
     "name": "stdout",
     "output_type": "stream",
     "text": [
      "1 data dihapus\n"
     ]
    }
   ],
   "source": [
    "cursor = db5.cursor()\n",
    "sql = \"DELETE FROM karyawan WHERE karyawan_id=%s\"\n",
    "val = (4, )\n",
    "cursor.execute(sql, val)\n",
    "\n",
    "db5.commit()\n",
    "\n",
    "print(\"{} data dihapus\".format(cursor.rowcount))"
   ]
  },
  {
   "cell_type": "code",
   "execution_count": null,
   "id": "36678314-4855-48d3-af07-e60bb035ba3d",
   "metadata": {},
   "outputs": [],
   "source": []
  }
 ],
 "metadata": {
  "kernelspec": {
   "display_name": "Python 3 (ipykernel)",
   "language": "python",
   "name": "python3"
  },
  "language_info": {
   "codemirror_mode": {
    "name": "ipython",
    "version": 3
   },
   "file_extension": ".py",
   "mimetype": "text/x-python",
   "name": "python",
   "nbconvert_exporter": "python",
   "pygments_lexer": "ipython3",
   "version": "3.8.13"
  }
 },
 "nbformat": 4,
 "nbformat_minor": 5
}
