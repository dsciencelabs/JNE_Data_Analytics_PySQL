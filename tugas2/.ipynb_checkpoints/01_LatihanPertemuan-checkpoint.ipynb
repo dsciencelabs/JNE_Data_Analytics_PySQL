{
 "cells": [
  {
   "cell_type": "markdown",
   "id": "f11740f1-0fb1-47b5-b614-157088aa404d",
   "metadata": {},
   "source": [
    "## Tambahkanlah kolom `Product_Price` pada table `inventory_items`"
   ]
  },
  {
   "cell_type": "markdown",
   "id": "fa5ee56e-7bee-4f0e-b99f-481eb00870e5",
   "metadata": {},
   "source": [
    "## Hapuslah kolom `Product_Price` pada table `inventory_items`"
   ]
  },
  {
   "cell_type": "markdown",
   "id": "877be244-6e79-4ba6-a42c-62d00cd6bf44",
   "metadata": {},
   "source": [
    "## Tambahkanlah kolom `Id` pada table `orders`"
   ]
  },
  {
   "cell_type": "markdown",
   "id": "25a43c8d-8f9d-4110-98f3-f6093e2f17e3",
   "metadata": {},
   "source": [
    "## Hapuslah kolom `Id` pada table `orders`"
   ]
  },
  {
   "cell_type": "markdown",
   "id": "e1c3bcf1-8f95-4350-b5b6-9e95fbb19c83",
   "metadata": {},
   "source": [
    "## Tambahkanlah kolom `Total_Sales` pada table `order_items`"
   ]
  },
  {
   "cell_type": "markdown",
   "id": "6167121d-eeb5-412a-ade6-7fb66ab37859",
   "metadata": {},
   "source": [
    "## Hapuslah kolom `Total_Sales` pada table `order_items`"
   ]
  },
  {
   "cell_type": "markdown",
   "id": "3a065c9d-d0a5-4bdd-b896-aec852de278e",
   "metadata": {},
   "source": [
    "## Tampilkanlah data yang `order_id>= 50` dari table `orders`"
   ]
  },
  {
   "cell_type": "markdown",
   "id": "fb4d8c8f-497e-4332-ae77-5ea69b508166",
   "metadata": {},
   "source": [
    "## Tampilkanlah data berdasarkan negara `london` dari table `events`"
   ]
  },
  {
   "cell_type": "markdown",
   "id": "ee095ede-7261-4104-b79d-50b954810f57",
   "metadata": {},
   "source": [
    "## Tampilkanlah data yang memiliki `product_id = 9482` dari table `inventory_items`"
   ]
  },
  {
   "cell_type": "markdown",
   "id": "ff5420a3-f7ea-4d92-abdc-fcf8f9e373f3",
   "metadata": {},
   "source": [
    "## Tampilkanlah data yang memiliki `id = 72884` dan dengan status `cancelled` dari table `order_items`"
   ]
  },
  {
   "cell_type": "markdown",
   "id": "5f51a21c-219b-4542-aedd-59b8345e452f",
   "metadata": {},
   "source": [
    "## Urutkanlah Data dari table `distribution_centers` dengan nama dari huruf z ke a"
   ]
  },
  {
   "cell_type": "markdown",
   "id": "1b13c86a-37a2-45bd-9137-329eb1817b93",
   "metadata": {},
   "source": [
    "## Urutkanlah Data dari table `order_items` dengan `sale_price` dari terkecil ke besar"
   ]
  },
  {
   "cell_type": "markdown",
   "id": "2782b32a-13f1-41b2-af97-121cc57f0188",
   "metadata": {},
   "source": [
    "## Tambahkan Tabel dari local (tidak menggunakan link) ke database `jne2`"
   ]
  }
 ],
 "metadata": {
  "kernelspec": {
   "display_name": "Python 3 (ipykernel)",
   "language": "python",
   "name": "python3"
  },
  "language_info": {
   "codemirror_mode": {
    "name": "ipython",
    "version": 3
   },
   "file_extension": ".py",
   "mimetype": "text/x-python",
   "name": "python",
   "nbconvert_exporter": "python",
   "pygments_lexer": "ipython3",
   "version": "3.10.9"
  }
 },
 "nbformat": 4,
 "nbformat_minor": 5
}
