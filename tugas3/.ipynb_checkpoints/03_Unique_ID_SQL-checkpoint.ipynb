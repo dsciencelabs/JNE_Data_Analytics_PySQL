{
 "cells": [
  {
   "cell_type": "markdown",
   "id": "5d47b45c-cb26-4cf7-9179-193f9abcb3e5",
   "metadata": {},
   "source": [
    "# Mencetak Unik ID di MySQL\n",
    "\n",
    "Hal ini dapat dapat diselesaikan dengan pernyataan SELECT dan fungsi Universal Unique Identifier (UUID).\n",
    "\n",
    "## Satu UUID yang Berbeda"
   ]
  },
  {
   "cell_type": "raw",
   "id": "c88b7699-2d78-4472-9368-c8cb9c7dac91",
   "metadata": {},
   "source": [
    "SELECT UUID();"
   ]
  },
  {
   "cell_type": "markdown",
   "id": "6c667b88-e1b1-47dd-a18b-702d790abecf",
   "metadata": {},
   "source": [
    "## Dua UUID yang Berbeda"
   ]
  },
  {
   "cell_type": "raw",
   "id": "47cc5ef6-f201-4fbd-8888-d21836585531",
   "metadata": {},
   "source": [
    "SELECT UUID() AS ID1, UUID() as ID2;"
   ]
  },
  {
   "cell_type": "markdown",
   "id": "df7b043b-d1cd-4958-89df-91b60bb5e428",
   "metadata": {},
   "source": [
    "## Penerapannya UUID dalam Tabel\n",
    "\n",
    "Mari kita buat kolom bernama ID_BARU dengan fungsi UUID() dan menggunakan pernyataan ALTER dan UPDATE pada tabel `distribution_centers` yang ada pada database JNE2."
   ]
  },
  {
   "cell_type": "raw",
   "id": "67943458-300f-441e-9e0c-688b20071b8c",
   "metadata": {},
   "source": [
    "ALTER TABLE distribution_centers ADD UID text; \n",
    "UPDATE distribution_centers SET UID=UUID(); \n",
    "SELECT * FROM distribution_centers;"
   ]
  },
  {
   "cell_type": "markdown",
   "id": "633b32b6-58f5-4421-bccd-85f7736949c9",
   "metadata": {},
   "source": [
    "## Update Satu UUID yang Berbeda"
   ]
  },
  {
   "cell_type": "raw",
   "id": "488ae435-4fab-4e80-84a1-b3004def9ea6",
   "metadata": {},
   "source": [
    "UPDATE distribution_centers SET UID=UUID() WHERE ID=2; \n",
    "SELECT * FROM distribution_centers;"
   ]
  },
  {
   "cell_type": "markdown",
   "id": "a0a60ec1-4a06-4c57-a0a6-80b4ab6c6b2f",
   "metadata": {},
   "source": [
    "## Kustom UUID\n",
    "\n",
    "Berikut adalah salah satu cara di mana kita dapat membuat UUID lebih ringkas dengan menggunakan fungsi REPLACE(). contoh berikut adalah cara untuk memperbarui UUID baris pada tabel `distribution_centers` dengan ID = 3."
   ]
  },
  {
   "cell_type": "raw",
   "id": "19e7b875-3d63-4a36-b294-b3505069bc87",
   "metadata": {},
   "source": [
    "UPDATE distribution_centers SET UID=REPLACE(UUID(), '-', '') WHERE ID=3; \n",
    "SELECT * distribution_centers;"
   ]
  },
  {
   "cell_type": "markdown",
   "id": "3b677819-a818-4c19-b577-2319acc03cb3",
   "metadata": {},
   "source": [
    "# Satu UUID Singkat\n",
    "\n",
    "Sama halnya dnegan fungsi sebelumnya, UUID_SHORT() dapat digunakan untuk membangun ID yang lebih singkat. "
   ]
  },
  {
   "cell_type": "raw",
   "id": "308dcec0-5ea2-40ba-890b-a0aab584256e",
   "metadata": {},
   "source": [
    "SELECT UUID_SHORT();"
   ]
  }
 ],
 "metadata": {
  "kernelspec": {
   "display_name": "Python 3 (ipykernel)",
   "language": "python",
   "name": "python3"
  },
  "language_info": {
   "codemirror_mode": {
    "name": "ipython",
    "version": 3
   },
   "file_extension": ".py",
   "mimetype": "text/x-python",
   "name": "python",
   "nbconvert_exporter": "python",
   "pygments_lexer": "ipython3",
   "version": "3.10.9"
  }
 },
 "nbformat": 4,
 "nbformat_minor": 5
}
