{
 "cells": [
  {
   "cell_type": "markdown",
   "id": "6498e261-6c00-4469-a398-336316e38a3f",
   "metadata": {},
   "source": [
    "# Perhitungan dan Statistika Dasar\n",
    "\n",
    "Berikut ini dilampirkan beberapa hal yang harus dikerjakan:"
   ]
  },
  {
   "cell_type": "markdown",
   "id": "63251cc4-bb88-4fdc-aa6e-59c446718eca",
   "metadata": {},
   "source": [
    "## Jumlah "
   ]
  },
  {
   "cell_type": "code",
   "execution_count": null,
   "id": "0742df7a-5727-4683-b15e-03f00e07fe97",
   "metadata": {},
   "outputs": [],
   "source": []
  }
 ],
 "metadata": {
  "kernelspec": {
   "display_name": "Python 3 (ipykernel)",
   "language": "python",
   "name": "python3"
  },
  "language_info": {
   "codemirror_mode": {
    "name": "ipython",
    "version": 3
   },
   "file_extension": ".py",
   "mimetype": "text/x-python",
   "name": "python",
   "nbconvert_exporter": "python",
   "pygments_lexer": "ipython3",
   "version": "3.10.9"
  }
 },
 "nbformat": 4,
 "nbformat_minor": 5
}
